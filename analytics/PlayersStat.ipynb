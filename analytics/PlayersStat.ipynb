{
 "cells": [
  {
   "cell_type": "code",
   "execution_count": 1,
   "metadata": {},
   "outputs": [],
   "source": [
    "import pandas as pd \n",
    "import plotly.express as px"
   ]
  },
  {
   "cell_type": "code",
   "execution_count": 2,
   "metadata": {},
   "outputs": [],
   "source": [
    "from DataProcessingModule import clean_dataframe"
   ]
  },
  {
   "cell_type": "code",
   "execution_count": 3,
   "metadata": {},
   "outputs": [
    {
     "data": {
      "text/html": [
       "<div>\n",
       "<style scoped>\n",
       "    .dataframe tbody tr th:only-of-type {\n",
       "        vertical-align: middle;\n",
       "    }\n",
       "\n",
       "    .dataframe tbody tr th {\n",
       "        vertical-align: top;\n",
       "    }\n",
       "\n",
       "    .dataframe thead th {\n",
       "        text-align: right;\n",
       "    }\n",
       "</style>\n",
       "<table border=\"1\" class=\"dataframe\">\n",
       "  <thead>\n",
       "    <tr style=\"text-align: right;\">\n",
       "      <th></th>\n",
       "      <th>Player</th>\n",
       "      <th>Span</th>\n",
       "      <th>Mat</th>\n",
       "      <th>Inns</th>\n",
       "      <th>NO</th>\n",
       "      <th>Runs</th>\n",
       "      <th>HS</th>\n",
       "      <th>Ave</th>\n",
       "      <th>SR</th>\n",
       "      <th>100</th>\n",
       "      <th>50</th>\n",
       "      <th>0</th>\n",
       "    </tr>\n",
       "  </thead>\n",
       "  <tbody>\n",
       "    <tr>\n",
       "      <th>0</th>\n",
       "      <td>Mohammad Aadil Alam</td>\n",
       "      <td>2022-2022</td>\n",
       "      <td>6</td>\n",
       "      <td>5</td>\n",
       "      <td>1</td>\n",
       "      <td>70</td>\n",
       "      <td>36</td>\n",
       "      <td>17.5</td>\n",
       "      <td>90.9</td>\n",
       "      <td>None</td>\n",
       "      <td>None</td>\n",
       "      <td>None</td>\n",
       "    </tr>\n",
       "    <tr>\n",
       "      <th>1</th>\n",
       "      <td>Aakash Chand</td>\n",
       "      <td>2024-2024</td>\n",
       "      <td>2</td>\n",
       "      <td>None</td>\n",
       "      <td>None</td>\n",
       "      <td>None</td>\n",
       "      <td>None</td>\n",
       "      <td>None</td>\n",
       "      <td>None</td>\n",
       "      <td>None</td>\n",
       "      <td>None</td>\n",
       "      <td>None</td>\n",
       "    </tr>\n",
       "    <tr>\n",
       "      <th>2</th>\n",
       "      <td>Aarif Sheikh</td>\n",
       "      <td>2018-2024</td>\n",
       "      <td>51</td>\n",
       "      <td>43</td>\n",
       "      <td>5</td>\n",
       "      <td>964</td>\n",
       "      <td>66</td>\n",
       "      <td>25.36</td>\n",
       "      <td>62.43</td>\n",
       "      <td>None</td>\n",
       "      <td>6</td>\n",
       "      <td>4</td>\n",
       "    </tr>\n",
       "    <tr>\n",
       "      <th>3</th>\n",
       "      <td>Aasif Sheikh</td>\n",
       "      <td>2021-2024</td>\n",
       "      <td>49</td>\n",
       "      <td>49</td>\n",
       "      <td>4</td>\n",
       "      <td>1401</td>\n",
       "      <td>110</td>\n",
       "      <td>31.13</td>\n",
       "      <td>76.97</td>\n",
       "      <td>1</td>\n",
       "      <td>12</td>\n",
       "      <td>5</td>\n",
       "    </tr>\n",
       "    <tr>\n",
       "      <th>4</th>\n",
       "      <td>DS Airee</td>\n",
       "      <td>2018-2024</td>\n",
       "      <td>55</td>\n",
       "      <td>53</td>\n",
       "      <td>6</td>\n",
       "      <td>896</td>\n",
       "      <td>105</td>\n",
       "      <td>19.06</td>\n",
       "      <td>71.22</td>\n",
       "      <td>1</td>\n",
       "      <td>3</td>\n",
       "      <td>8</td>\n",
       "    </tr>\n",
       "    <tr>\n",
       "      <th>5</th>\n",
       "      <td>KS Airee</td>\n",
       "      <td>2020-2022</td>\n",
       "      <td>3</td>\n",
       "      <td>3</td>\n",
       "      <td>2</td>\n",
       "      <td>27</td>\n",
       "      <td>18*</td>\n",
       "      <td>27</td>\n",
       "      <td>112.5</td>\n",
       "      <td>None</td>\n",
       "      <td>None</td>\n",
       "      <td>1</td>\n",
       "    </tr>\n",
       "    <tr>\n",
       "      <th>6</th>\n",
       "      <td>Basir Ahamad</td>\n",
       "      <td>2022-2022</td>\n",
       "      <td>3</td>\n",
       "      <td>2</td>\n",
       "      <td>None</td>\n",
       "      <td>3</td>\n",
       "      <td>3</td>\n",
       "      <td>1.5</td>\n",
       "      <td>23.07</td>\n",
       "      <td>None</td>\n",
       "      <td>None</td>\n",
       "      <td>1</td>\n",
       "    </tr>\n",
       "    <tr>\n",
       "      <th>7</th>\n",
       "      <td>B Bhandari</td>\n",
       "      <td>2019-2022</td>\n",
       "      <td>17</td>\n",
       "      <td>14</td>\n",
       "      <td>None</td>\n",
       "      <td>275</td>\n",
       "      <td>59</td>\n",
       "      <td>19.64</td>\n",
       "      <td>59.65</td>\n",
       "      <td>None</td>\n",
       "      <td>1</td>\n",
       "      <td>None</td>\n",
       "    </tr>\n",
       "    <tr>\n",
       "      <th>8</th>\n",
       "      <td>LS Bhandari</td>\n",
       "      <td>2018-2018</td>\n",
       "      <td>1</td>\n",
       "      <td>1</td>\n",
       "      <td>1</td>\n",
       "      <td>4</td>\n",
       "      <td>4*</td>\n",
       "      <td>None</td>\n",
       "      <td>44.44</td>\n",
       "      <td>None</td>\n",
       "      <td>None</td>\n",
       "      <td>None</td>\n",
       "    </tr>\n",
       "    <tr>\n",
       "      <th>9</th>\n",
       "      <td>S Bhari</td>\n",
       "      <td>2020-2022</td>\n",
       "      <td>11</td>\n",
       "      <td>7</td>\n",
       "      <td>5</td>\n",
       "      <td>24</td>\n",
       "      <td>11</td>\n",
       "      <td>12</td>\n",
       "      <td>44.44</td>\n",
       "      <td>None</td>\n",
       "      <td>None</td>\n",
       "      <td>None</td>\n",
       "    </tr>\n",
       "    <tr>\n",
       "      <th>10</th>\n",
       "      <td>K Bhurtel</td>\n",
       "      <td>2021-2024</td>\n",
       "      <td>52</td>\n",
       "      <td>51</td>\n",
       "      <td>None</td>\n",
       "      <td>1219</td>\n",
       "      <td>115</td>\n",
       "      <td>23.9</td>\n",
       "      <td>83.26</td>\n",
       "      <td>1</td>\n",
       "      <td>8</td>\n",
       "      <td>7</td>\n",
       "    </tr>\n",
       "    <tr>\n",
       "      <th>11</th>\n",
       "      <td>Bikram Sob</td>\n",
       "      <td>2021-2022</td>\n",
       "      <td>5</td>\n",
       "      <td>4</td>\n",
       "      <td>1</td>\n",
       "      <td>4</td>\n",
       "      <td>2</td>\n",
       "      <td>1.33</td>\n",
       "      <td>23.52</td>\n",
       "      <td>None</td>\n",
       "      <td>None</td>\n",
       "      <td>None</td>\n",
       "    </tr>\n",
       "    <tr>\n",
       "      <th>12</th>\n",
       "      <td>A Bohara</td>\n",
       "      <td>2020-2020</td>\n",
       "      <td>2</td>\n",
       "      <td>2</td>\n",
       "      <td>2</td>\n",
       "      <td>13</td>\n",
       "      <td>8*</td>\n",
       "      <td>None</td>\n",
       "      <td>92.85</td>\n",
       "      <td>None</td>\n",
       "      <td>None</td>\n",
       "      <td>None</td>\n",
       "    </tr>\n",
       "    <tr>\n",
       "      <th>13</th>\n",
       "      <td>R Dhakal</td>\n",
       "      <td>2024-2024</td>\n",
       "      <td>2</td>\n",
       "      <td>1</td>\n",
       "      <td>None</td>\n",
       "      <td>4</td>\n",
       "      <td>4</td>\n",
       "      <td>4</td>\n",
       "      <td>100</td>\n",
       "      <td>None</td>\n",
       "      <td>None</td>\n",
       "      <td>None</td>\n",
       "    </tr>\n",
       "    <tr>\n",
       "      <th>14</th>\n",
       "      <td>S Dhakal</td>\n",
       "      <td>2022-2022</td>\n",
       "      <td>8</td>\n",
       "      <td>6</td>\n",
       "      <td>5</td>\n",
       "      <td>7</td>\n",
       "      <td>4*</td>\n",
       "      <td>7</td>\n",
       "      <td>17.07</td>\n",
       "      <td>None</td>\n",
       "      <td>None</td>\n",
       "      <td>None</td>\n",
       "    </tr>\n",
       "    <tr>\n",
       "      <th>15</th>\n",
       "      <td>S Dhamala</td>\n",
       "      <td>2022-2022</td>\n",
       "      <td>1</td>\n",
       "      <td>1</td>\n",
       "      <td>None</td>\n",
       "      <td>12</td>\n",
       "      <td>12</td>\n",
       "      <td>12</td>\n",
       "      <td>31.57</td>\n",
       "      <td>None</td>\n",
       "      <td>None</td>\n",
       "      <td>None</td>\n",
       "    </tr>\n",
       "    <tr>\n",
       "      <th>16</th>\n",
       "      <td>H Dhami</td>\n",
       "      <td>2024-2024</td>\n",
       "      <td>1</td>\n",
       "      <td>None</td>\n",
       "      <td>None</td>\n",
       "      <td>None</td>\n",
       "      <td>None</td>\n",
       "      <td>None</td>\n",
       "      <td>None</td>\n",
       "      <td>None</td>\n",
       "      <td>None</td>\n",
       "      <td>None</td>\n",
       "    </tr>\n",
       "    <tr>\n",
       "      <th>17</th>\n",
       "      <td>SP Gauchan</td>\n",
       "      <td>2018-2018</td>\n",
       "      <td>1</td>\n",
       "      <td>1</td>\n",
       "      <td>1</td>\n",
       "      <td>9</td>\n",
       "      <td>9*</td>\n",
       "      <td>None</td>\n",
       "      <td>20.45</td>\n",
       "      <td>None</td>\n",
       "      <td>None</td>\n",
       "      <td>None</td>\n",
       "    </tr>\n",
       "    <tr>\n",
       "      <th>18</th>\n",
       "      <td>Gulsan Jha</td>\n",
       "      <td>2021-2024</td>\n",
       "      <td>27</td>\n",
       "      <td>22</td>\n",
       "      <td>5</td>\n",
       "      <td>514</td>\n",
       "      <td>67*</td>\n",
       "      <td>30.23</td>\n",
       "      <td>73.63</td>\n",
       "      <td>None</td>\n",
       "      <td>3</td>\n",
       "      <td>None</td>\n",
       "    </tr>\n",
       "    <tr>\n",
       "      <th>19</th>\n",
       "      <td>S Jora</td>\n",
       "      <td>2019-2023</td>\n",
       "      <td>5</td>\n",
       "      <td>5</td>\n",
       "      <td>None</td>\n",
       "      <td>56</td>\n",
       "      <td>28</td>\n",
       "      <td>11.2</td>\n",
       "      <td>83.58</td>\n",
       "      <td>None</td>\n",
       "      <td>None</td>\n",
       "      <td>None</td>\n",
       "    </tr>\n",
       "    <tr>\n",
       "      <th>20</th>\n",
       "      <td>Karan KC</td>\n",
       "      <td>2018-2024</td>\n",
       "      <td>51</td>\n",
       "      <td>36</td>\n",
       "      <td>8</td>\n",
       "      <td>412</td>\n",
       "      <td>42</td>\n",
       "      <td>14.71</td>\n",
       "      <td>84.25</td>\n",
       "      <td>None</td>\n",
       "      <td>None</td>\n",
       "      <td>4</td>\n",
       "    </tr>\n",
       "    <tr>\n",
       "      <th>21</th>\n",
       "      <td>P Khadka</td>\n",
       "      <td>2018-2020</td>\n",
       "      <td>10</td>\n",
       "      <td>10</td>\n",
       "      <td>1</td>\n",
       "      <td>315</td>\n",
       "      <td>115</td>\n",
       "      <td>35</td>\n",
       "      <td>79.14</td>\n",
       "      <td>1</td>\n",
       "      <td>1</td>\n",
       "      <td>None</td>\n",
       "    </tr>\n",
       "    <tr>\n",
       "      <th>22</th>\n",
       "      <td>SP Khakurel</td>\n",
       "      <td>2018-2022</td>\n",
       "      <td>6</td>\n",
       "      <td>6</td>\n",
       "      <td>None</td>\n",
       "      <td>97</td>\n",
       "      <td>50</td>\n",
       "      <td>16.16</td>\n",
       "      <td>50.25</td>\n",
       "      <td>None</td>\n",
       "      <td>1</td>\n",
       "      <td>1</td>\n",
       "    </tr>\n",
       "    <tr>\n",
       "      <th>23</th>\n",
       "      <td>D Khanal</td>\n",
       "      <td>2022-2024</td>\n",
       "      <td>14</td>\n",
       "      <td>12</td>\n",
       "      <td>None</td>\n",
       "      <td>329</td>\n",
       "      <td>76</td>\n",
       "      <td>27.41</td>\n",
       "      <td>69.11</td>\n",
       "      <td>None</td>\n",
       "      <td>3</td>\n",
       "      <td>2</td>\n",
       "    </tr>\n",
       "    <tr>\n",
       "      <th>24</th>\n",
       "      <td>Kushal Malla</td>\n",
       "      <td>2020-2024</td>\n",
       "      <td>36</td>\n",
       "      <td>32</td>\n",
       "      <td>3</td>\n",
       "      <td>716</td>\n",
       "      <td>108</td>\n",
       "      <td>24.68</td>\n",
       "      <td>96.23</td>\n",
       "      <td>1</td>\n",
       "      <td>4</td>\n",
       "      <td>1</td>\n",
       "    </tr>\n",
       "    <tr>\n",
       "      <th>25</th>\n",
       "      <td>S Lamichhane</td>\n",
       "      <td>2018-2023</td>\n",
       "      <td>51</td>\n",
       "      <td>35</td>\n",
       "      <td>8</td>\n",
       "      <td>376</td>\n",
       "      <td>35*</td>\n",
       "      <td>13.92</td>\n",
       "      <td>82.81</td>\n",
       "      <td>None</td>\n",
       "      <td>None</td>\n",
       "      <td>7</td>\n",
       "    </tr>\n",
       "    <tr>\n",
       "      <th>26</th>\n",
       "      <td>K Mahato</td>\n",
       "      <td>2022-2023</td>\n",
       "      <td>2</td>\n",
       "      <td>2</td>\n",
       "      <td>2</td>\n",
       "      <td>1</td>\n",
       "      <td>1*</td>\n",
       "      <td>None</td>\n",
       "      <td>10</td>\n",
       "      <td>None</td>\n",
       "      <td>None</td>\n",
       "      <td>None</td>\n",
       "    </tr>\n",
       "    <tr>\n",
       "      <th>27</th>\n",
       "      <td>G Malla</td>\n",
       "      <td>2018-2023</td>\n",
       "      <td>37</td>\n",
       "      <td>37</td>\n",
       "      <td>1</td>\n",
       "      <td>876</td>\n",
       "      <td>75</td>\n",
       "      <td>24.33</td>\n",
       "      <td>66.46</td>\n",
       "      <td>None</td>\n",
       "      <td>7</td>\n",
       "      <td>3</td>\n",
       "    </tr>\n",
       "    <tr>\n",
       "      <th>28</th>\n",
       "      <td>RK Paudel</td>\n",
       "      <td>2018-2024</td>\n",
       "      <td>61</td>\n",
       "      <td>58</td>\n",
       "      <td>5</td>\n",
       "      <td>1586</td>\n",
       "      <td>126</td>\n",
       "      <td>29.92</td>\n",
       "      <td>74.56</td>\n",
       "      <td>1</td>\n",
       "      <td>9</td>\n",
       "      <td>5</td>\n",
       "    </tr>\n",
       "    <tr>\n",
       "      <th>29</th>\n",
       "      <td>Pratis GC</td>\n",
       "      <td>2023-2023</td>\n",
       "      <td>3</td>\n",
       "      <td>1</td>\n",
       "      <td>1</td>\n",
       "      <td>11</td>\n",
       "      <td>11*</td>\n",
       "      <td>None</td>\n",
       "      <td>183.33</td>\n",
       "      <td>None</td>\n",
       "      <td>None</td>\n",
       "      <td>None</td>\n",
       "    </tr>\n",
       "    <tr>\n",
       "      <th>30</th>\n",
       "      <td>LN Rajbanshi</td>\n",
       "      <td>2019-2024</td>\n",
       "      <td>29</td>\n",
       "      <td>16</td>\n",
       "      <td>10</td>\n",
       "      <td>37</td>\n",
       "      <td>11</td>\n",
       "      <td>6.16</td>\n",
       "      <td>29.13</td>\n",
       "      <td>None</td>\n",
       "      <td>None</td>\n",
       "      <td>2</td>\n",
       "    </tr>\n",
       "    <tr>\n",
       "      <th>31</th>\n",
       "      <td>B Regmi</td>\n",
       "      <td>2018-2019</td>\n",
       "      <td>4</td>\n",
       "      <td>4</td>\n",
       "      <td>None</td>\n",
       "      <td>13</td>\n",
       "      <td>12</td>\n",
       "      <td>3.25</td>\n",
       "      <td>27.65</td>\n",
       "      <td>None</td>\n",
       "      <td>None</td>\n",
       "      <td>2</td>\n",
       "    </tr>\n",
       "    <tr>\n",
       "      <th>32</th>\n",
       "      <td>Sagar Pun</td>\n",
       "      <td>2018-2018</td>\n",
       "      <td>1</td>\n",
       "      <td>1</td>\n",
       "      <td>None</td>\n",
       "      <td>3</td>\n",
       "      <td>3</td>\n",
       "      <td>3</td>\n",
       "      <td>15</td>\n",
       "      <td>None</td>\n",
       "      <td>None</td>\n",
       "      <td>None</td>\n",
       "    </tr>\n",
       "    <tr>\n",
       "      <th>33</th>\n",
       "      <td>AK Sah</td>\n",
       "      <td>2018-2024</td>\n",
       "      <td>10</td>\n",
       "      <td>10</td>\n",
       "      <td>2</td>\n",
       "      <td>266</td>\n",
       "      <td>112*</td>\n",
       "      <td>33.25</td>\n",
       "      <td>103.5</td>\n",
       "      <td>1</td>\n",
       "      <td>2</td>\n",
       "      <td>1</td>\n",
       "    </tr>\n",
       "    <tr>\n",
       "      <th>34</th>\n",
       "      <td>P Sarraf</td>\n",
       "      <td>2019-2024</td>\n",
       "      <td>12</td>\n",
       "      <td>10</td>\n",
       "      <td>1</td>\n",
       "      <td>72</td>\n",
       "      <td>15</td>\n",
       "      <td>8</td>\n",
       "      <td>62.06</td>\n",
       "      <td>None</td>\n",
       "      <td>None</td>\n",
       "      <td>2</td>\n",
       "    </tr>\n",
       "    <tr>\n",
       "      <th>35</th>\n",
       "      <td>A Saud</td>\n",
       "      <td>2022-2023</td>\n",
       "      <td>9</td>\n",
       "      <td>9</td>\n",
       "      <td>None</td>\n",
       "      <td>174</td>\n",
       "      <td>51</td>\n",
       "      <td>19.33</td>\n",
       "      <td>50</td>\n",
       "      <td>None</td>\n",
       "      <td>1</td>\n",
       "      <td>2</td>\n",
       "    </tr>\n",
       "    <tr>\n",
       "      <th>36</th>\n",
       "      <td>H Shah</td>\n",
       "      <td>2022-2022</td>\n",
       "      <td>3</td>\n",
       "      <td>3</td>\n",
       "      <td>1</td>\n",
       "      <td>9</td>\n",
       "      <td>8</td>\n",
       "      <td>4.5</td>\n",
       "      <td>36</td>\n",
       "      <td>None</td>\n",
       "      <td>None</td>\n",
       "      <td>None</td>\n",
       "    </tr>\n",
       "    <tr>\n",
       "      <th>37</th>\n",
       "      <td>B Sharki</td>\n",
       "      <td>2022-2024</td>\n",
       "      <td>25</td>\n",
       "      <td>22</td>\n",
       "      <td>3</td>\n",
       "      <td>670</td>\n",
       "      <td>101*</td>\n",
       "      <td>35.26</td>\n",
       "      <td>67.6</td>\n",
       "      <td>1</td>\n",
       "      <td>3</td>\n",
       "      <td>2</td>\n",
       "    </tr>\n",
       "    <tr>\n",
       "      <th>38</th>\n",
       "      <td>Sompal Kami</td>\n",
       "      <td>2018-2024</td>\n",
       "      <td>54</td>\n",
       "      <td>42</td>\n",
       "      <td>14</td>\n",
       "      <td>596</td>\n",
       "      <td>63*</td>\n",
       "      <td>21.28</td>\n",
       "      <td>73.39</td>\n",
       "      <td>None</td>\n",
       "      <td>2</td>\n",
       "      <td>2</td>\n",
       "    </tr>\n",
       "    <tr>\n",
       "      <th>39</th>\n",
       "      <td>Surya Tamang</td>\n",
       "      <td>2024-2024</td>\n",
       "      <td>2</td>\n",
       "      <td>1</td>\n",
       "      <td>1</td>\n",
       "      <td>10</td>\n",
       "      <td>10*</td>\n",
       "      <td>None</td>\n",
       "      <td>31.25</td>\n",
       "      <td>None</td>\n",
       "      <td>None</td>\n",
       "      <td>None</td>\n",
       "    </tr>\n",
       "    <tr>\n",
       "      <th>40</th>\n",
       "      <td>S Vesawkar</td>\n",
       "      <td>2018-2021</td>\n",
       "      <td>4</td>\n",
       "      <td>4</td>\n",
       "      <td>1</td>\n",
       "      <td>66</td>\n",
       "      <td>55</td>\n",
       "      <td>22</td>\n",
       "      <td>43.7</td>\n",
       "      <td>None</td>\n",
       "      <td>1</td>\n",
       "      <td>None</td>\n",
       "    </tr>\n",
       "  </tbody>\n",
       "</table>\n",
       "</div>"
      ],
      "text/plain": [
       "                 Player       Span  Mat  Inns    NO  Runs    HS    Ave  \\\n",
       "0   Mohammad Aadil Alam  2022-2022    6     5     1    70    36   17.5   \n",
       "1          Aakash Chand  2024-2024    2  None  None  None  None   None   \n",
       "2          Aarif Sheikh  2018-2024   51    43     5   964    66  25.36   \n",
       "3          Aasif Sheikh  2021-2024   49    49     4  1401   110  31.13   \n",
       "4              DS Airee  2018-2024   55    53     6   896   105  19.06   \n",
       "5              KS Airee  2020-2022    3     3     2    27   18*     27   \n",
       "6          Basir Ahamad  2022-2022    3     2  None     3     3    1.5   \n",
       "7            B Bhandari  2019-2022   17    14  None   275    59  19.64   \n",
       "8           LS Bhandari  2018-2018    1     1     1     4    4*   None   \n",
       "9               S Bhari  2020-2022   11     7     5    24    11     12   \n",
       "10            K Bhurtel  2021-2024   52    51  None  1219   115   23.9   \n",
       "11           Bikram Sob  2021-2022    5     4     1     4     2   1.33   \n",
       "12             A Bohara  2020-2020    2     2     2    13    8*   None   \n",
       "13             R Dhakal  2024-2024    2     1  None     4     4      4   \n",
       "14             S Dhakal  2022-2022    8     6     5     7    4*      7   \n",
       "15            S Dhamala  2022-2022    1     1  None    12    12     12   \n",
       "16              H Dhami  2024-2024    1  None  None  None  None   None   \n",
       "17           SP Gauchan  2018-2018    1     1     1     9    9*   None   \n",
       "18           Gulsan Jha  2021-2024   27    22     5   514   67*  30.23   \n",
       "19               S Jora  2019-2023    5     5  None    56    28   11.2   \n",
       "20             Karan KC  2018-2024   51    36     8   412    42  14.71   \n",
       "21             P Khadka  2018-2020   10    10     1   315   115     35   \n",
       "22          SP Khakurel  2018-2022    6     6  None    97    50  16.16   \n",
       "23             D Khanal  2022-2024   14    12  None   329    76  27.41   \n",
       "24         Kushal Malla  2020-2024   36    32     3   716   108  24.68   \n",
       "25         S Lamichhane  2018-2023   51    35     8   376   35*  13.92   \n",
       "26             K Mahato  2022-2023    2     2     2     1    1*   None   \n",
       "27              G Malla  2018-2023   37    37     1   876    75  24.33   \n",
       "28            RK Paudel  2018-2024   61    58     5  1586   126  29.92   \n",
       "29            Pratis GC  2023-2023    3     1     1    11   11*   None   \n",
       "30         LN Rajbanshi  2019-2024   29    16    10    37    11   6.16   \n",
       "31              B Regmi  2018-2019    4     4  None    13    12   3.25   \n",
       "32            Sagar Pun  2018-2018    1     1  None     3     3      3   \n",
       "33               AK Sah  2018-2024   10    10     2   266  112*  33.25   \n",
       "34             P Sarraf  2019-2024   12    10     1    72    15      8   \n",
       "35               A Saud  2022-2023    9     9  None   174    51  19.33   \n",
       "36               H Shah  2022-2022    3     3     1     9     8    4.5   \n",
       "37             B Sharki  2022-2024   25    22     3   670  101*  35.26   \n",
       "38          Sompal Kami  2018-2024   54    42    14   596   63*  21.28   \n",
       "39         Surya Tamang  2024-2024    2     1     1    10   10*   None   \n",
       "40           S Vesawkar  2018-2021    4     4     1    66    55     22   \n",
       "\n",
       "        SR   100    50     0  \n",
       "0     90.9  None  None  None  \n",
       "1     None  None  None  None  \n",
       "2    62.43  None     6     4  \n",
       "3    76.97     1    12     5  \n",
       "4    71.22     1     3     8  \n",
       "5    112.5  None  None     1  \n",
       "6    23.07  None  None     1  \n",
       "7    59.65  None     1  None  \n",
       "8    44.44  None  None  None  \n",
       "9    44.44  None  None  None  \n",
       "10   83.26     1     8     7  \n",
       "11   23.52  None  None  None  \n",
       "12   92.85  None  None  None  \n",
       "13     100  None  None  None  \n",
       "14   17.07  None  None  None  \n",
       "15   31.57  None  None  None  \n",
       "16    None  None  None  None  \n",
       "17   20.45  None  None  None  \n",
       "18   73.63  None     3  None  \n",
       "19   83.58  None  None  None  \n",
       "20   84.25  None  None     4  \n",
       "21   79.14     1     1  None  \n",
       "22   50.25  None     1     1  \n",
       "23   69.11  None     3     2  \n",
       "24   96.23     1     4     1  \n",
       "25   82.81  None  None     7  \n",
       "26      10  None  None  None  \n",
       "27   66.46  None     7     3  \n",
       "28   74.56     1     9     5  \n",
       "29  183.33  None  None  None  \n",
       "30   29.13  None  None     2  \n",
       "31   27.65  None  None     2  \n",
       "32      15  None  None  None  \n",
       "33   103.5     1     2     1  \n",
       "34   62.06  None  None     2  \n",
       "35      50  None     1     2  \n",
       "36      36  None  None  None  \n",
       "37    67.6     1     3     2  \n",
       "38   73.39  None     2     2  \n",
       "39   31.25  None  None  None  \n",
       "40    43.7  None     1  None  "
      ]
     },
     "execution_count": 3,
     "metadata": {},
     "output_type": "execute_result"
    }
   ],
   "source": [
    "df = pd.read_csv('data/batting_players_odi.csv')\n",
    "clean_dataframe(df)\n",
    "df"
   ]
  },
  {
   "cell_type": "code",
   "execution_count": 4,
   "metadata": {},
   "outputs": [
    {
     "data": {
      "text/plain": [
       "array([61, '58'], dtype=object)"
      ]
     },
     "execution_count": 4,
     "metadata": {},
     "output_type": "execute_result"
    }
   ],
   "source": [
    "(df[df.Player == \"RK Paudel\"][['Mat' , 'Inns']].iloc[0].values)"
   ]
  },
  {
   "cell_type": "code",
   "execution_count": 5,
   "metadata": {},
   "outputs": [],
   "source": [
    "def changing_to_float(df, columns:list):\n",
    "    try:\n",
    "        df[columns] =  pd.to_numeric(df[columns].replace('*' , '' , regex = False), errors='coerce')\n",
    "        df[columns] = df[columns].astype(float)\n",
    "        return df[columns]\n",
    "    except:\n",
    "        return df[columns]"
   ]
  },
  {
   "cell_type": "code",
   "execution_count": null,
   "metadata": {},
   "outputs": [],
   "source": []
  },
  {
   "cell_type": "code",
   "execution_count": 6,
   "metadata": {},
   "outputs": [
    {
     "data": {
      "text/html": [
       "<div>\n",
       "<style scoped>\n",
       "    .dataframe tbody tr th:only-of-type {\n",
       "        vertical-align: middle;\n",
       "    }\n",
       "\n",
       "    .dataframe tbody tr th {\n",
       "        vertical-align: top;\n",
       "    }\n",
       "\n",
       "    .dataframe thead th {\n",
       "        text-align: right;\n",
       "    }\n",
       "</style>\n",
       "<table border=\"1\" class=\"dataframe\">\n",
       "  <thead>\n",
       "    <tr style=\"text-align: right;\">\n",
       "      <th></th>\n",
       "      <th>NO</th>\n",
       "      <th>HS</th>\n",
       "    </tr>\n",
       "  </thead>\n",
       "  <tbody>\n",
       "    <tr>\n",
       "      <th>0</th>\n",
       "      <td>1</td>\n",
       "      <td>36</td>\n",
       "    </tr>\n",
       "    <tr>\n",
       "      <th>1</th>\n",
       "      <td>None</td>\n",
       "      <td>None</td>\n",
       "    </tr>\n",
       "    <tr>\n",
       "      <th>2</th>\n",
       "      <td>5</td>\n",
       "      <td>66</td>\n",
       "    </tr>\n",
       "    <tr>\n",
       "      <th>3</th>\n",
       "      <td>4</td>\n",
       "      <td>110</td>\n",
       "    </tr>\n",
       "    <tr>\n",
       "      <th>4</th>\n",
       "      <td>6</td>\n",
       "      <td>105</td>\n",
       "    </tr>\n",
       "    <tr>\n",
       "      <th>5</th>\n",
       "      <td>2</td>\n",
       "      <td>18*</td>\n",
       "    </tr>\n",
       "    <tr>\n",
       "      <th>6</th>\n",
       "      <td>None</td>\n",
       "      <td>3</td>\n",
       "    </tr>\n",
       "    <tr>\n",
       "      <th>7</th>\n",
       "      <td>None</td>\n",
       "      <td>59</td>\n",
       "    </tr>\n",
       "    <tr>\n",
       "      <th>8</th>\n",
       "      <td>1</td>\n",
       "      <td>4*</td>\n",
       "    </tr>\n",
       "    <tr>\n",
       "      <th>9</th>\n",
       "      <td>5</td>\n",
       "      <td>11</td>\n",
       "    </tr>\n",
       "    <tr>\n",
       "      <th>10</th>\n",
       "      <td>None</td>\n",
       "      <td>115</td>\n",
       "    </tr>\n",
       "    <tr>\n",
       "      <th>11</th>\n",
       "      <td>1</td>\n",
       "      <td>2</td>\n",
       "    </tr>\n",
       "    <tr>\n",
       "      <th>12</th>\n",
       "      <td>2</td>\n",
       "      <td>8*</td>\n",
       "    </tr>\n",
       "    <tr>\n",
       "      <th>13</th>\n",
       "      <td>None</td>\n",
       "      <td>4</td>\n",
       "    </tr>\n",
       "    <tr>\n",
       "      <th>14</th>\n",
       "      <td>5</td>\n",
       "      <td>4*</td>\n",
       "    </tr>\n",
       "    <tr>\n",
       "      <th>15</th>\n",
       "      <td>None</td>\n",
       "      <td>12</td>\n",
       "    </tr>\n",
       "    <tr>\n",
       "      <th>16</th>\n",
       "      <td>None</td>\n",
       "      <td>None</td>\n",
       "    </tr>\n",
       "    <tr>\n",
       "      <th>17</th>\n",
       "      <td>1</td>\n",
       "      <td>9*</td>\n",
       "    </tr>\n",
       "    <tr>\n",
       "      <th>18</th>\n",
       "      <td>5</td>\n",
       "      <td>67*</td>\n",
       "    </tr>\n",
       "    <tr>\n",
       "      <th>19</th>\n",
       "      <td>None</td>\n",
       "      <td>28</td>\n",
       "    </tr>\n",
       "    <tr>\n",
       "      <th>20</th>\n",
       "      <td>8</td>\n",
       "      <td>42</td>\n",
       "    </tr>\n",
       "    <tr>\n",
       "      <th>21</th>\n",
       "      <td>1</td>\n",
       "      <td>115</td>\n",
       "    </tr>\n",
       "    <tr>\n",
       "      <th>22</th>\n",
       "      <td>None</td>\n",
       "      <td>50</td>\n",
       "    </tr>\n",
       "    <tr>\n",
       "      <th>23</th>\n",
       "      <td>None</td>\n",
       "      <td>76</td>\n",
       "    </tr>\n",
       "    <tr>\n",
       "      <th>24</th>\n",
       "      <td>3</td>\n",
       "      <td>108</td>\n",
       "    </tr>\n",
       "    <tr>\n",
       "      <th>25</th>\n",
       "      <td>8</td>\n",
       "      <td>35*</td>\n",
       "    </tr>\n",
       "    <tr>\n",
       "      <th>26</th>\n",
       "      <td>2</td>\n",
       "      <td>1*</td>\n",
       "    </tr>\n",
       "    <tr>\n",
       "      <th>27</th>\n",
       "      <td>1</td>\n",
       "      <td>75</td>\n",
       "    </tr>\n",
       "    <tr>\n",
       "      <th>28</th>\n",
       "      <td>5</td>\n",
       "      <td>126</td>\n",
       "    </tr>\n",
       "    <tr>\n",
       "      <th>29</th>\n",
       "      <td>1</td>\n",
       "      <td>11*</td>\n",
       "    </tr>\n",
       "    <tr>\n",
       "      <th>30</th>\n",
       "      <td>10</td>\n",
       "      <td>11</td>\n",
       "    </tr>\n",
       "    <tr>\n",
       "      <th>31</th>\n",
       "      <td>None</td>\n",
       "      <td>12</td>\n",
       "    </tr>\n",
       "    <tr>\n",
       "      <th>32</th>\n",
       "      <td>None</td>\n",
       "      <td>3</td>\n",
       "    </tr>\n",
       "    <tr>\n",
       "      <th>33</th>\n",
       "      <td>2</td>\n",
       "      <td>112*</td>\n",
       "    </tr>\n",
       "    <tr>\n",
       "      <th>34</th>\n",
       "      <td>1</td>\n",
       "      <td>15</td>\n",
       "    </tr>\n",
       "    <tr>\n",
       "      <th>35</th>\n",
       "      <td>None</td>\n",
       "      <td>51</td>\n",
       "    </tr>\n",
       "    <tr>\n",
       "      <th>36</th>\n",
       "      <td>1</td>\n",
       "      <td>8</td>\n",
       "    </tr>\n",
       "    <tr>\n",
       "      <th>37</th>\n",
       "      <td>3</td>\n",
       "      <td>101*</td>\n",
       "    </tr>\n",
       "    <tr>\n",
       "      <th>38</th>\n",
       "      <td>14</td>\n",
       "      <td>63*</td>\n",
       "    </tr>\n",
       "    <tr>\n",
       "      <th>39</th>\n",
       "      <td>1</td>\n",
       "      <td>10*</td>\n",
       "    </tr>\n",
       "    <tr>\n",
       "      <th>40</th>\n",
       "      <td>1</td>\n",
       "      <td>55</td>\n",
       "    </tr>\n",
       "  </tbody>\n",
       "</table>\n",
       "</div>"
      ],
      "text/plain": [
       "      NO    HS\n",
       "0      1    36\n",
       "1   None  None\n",
       "2      5    66\n",
       "3      4   110\n",
       "4      6   105\n",
       "5      2   18*\n",
       "6   None     3\n",
       "7   None    59\n",
       "8      1    4*\n",
       "9      5    11\n",
       "10  None   115\n",
       "11     1     2\n",
       "12     2    8*\n",
       "13  None     4\n",
       "14     5    4*\n",
       "15  None    12\n",
       "16  None  None\n",
       "17     1    9*\n",
       "18     5   67*\n",
       "19  None    28\n",
       "20     8    42\n",
       "21     1   115\n",
       "22  None    50\n",
       "23  None    76\n",
       "24     3   108\n",
       "25     8   35*\n",
       "26     2    1*\n",
       "27     1    75\n",
       "28     5   126\n",
       "29     1   11*\n",
       "30    10    11\n",
       "31  None    12\n",
       "32  None     3\n",
       "33     2  112*\n",
       "34     1    15\n",
       "35  None    51\n",
       "36     1     8\n",
       "37     3  101*\n",
       "38    14   63*\n",
       "39     1   10*\n",
       "40     1    55"
      ]
     },
     "execution_count": 6,
     "metadata": {},
     "output_type": "execute_result"
    }
   ],
   "source": [
    "changing_to_float(df , ['NO' , 'HS'])"
   ]
  },
  {
   "cell_type": "code",
   "execution_count": 7,
   "metadata": {},
   "outputs": [],
   "source": [
    "from sklearn.preprocessing import MinMaxScaler"
   ]
  },
  {
   "cell_type": "code",
   "execution_count": 8,
   "metadata": {},
   "outputs": [],
   "source": [
    "def get_radar_plot(df:pd.DataFrame , Player: str , columns: list):\n",
    "    \n",
    "    \n",
    "    chart_data = pd.DataFrame(dict(\n",
    "        r = df[df.Player == Player][columns].iloc[0].values , \n",
    "        theta = columns , \n",
    "    ))\n",
    "    fig = px.line_polar(chart_data , r= 'r', theta='theta', line_close=True)\n",
    "    fig.update_layout(showlegend = True)\n",
    "    fig.update_traces(fill = 'toself')\n",
    "    fig.show()"
   ]
  },
  {
   "cell_type": "code",
   "execution_count": 9,
   "metadata": {},
   "outputs": [
    {
     "name": "stderr",
     "output_type": "stream",
     "text": [
      "c:\\Users\\A C E R\\anaconda3\\Lib\\site-packages\\plotly\\express\\_core.py:271: FutureWarning: The frame.append method is deprecated and will be removed from pandas in a future version. Use pandas.concat instead.\n",
      "  trace_data = trace_data.append(trace_data.iloc[0])\n"
     ]
    },
    {
     "data": {
      "application/vnd.plotly.v1+json": {
       "config": {
        "plotlyServerURL": "https://plot.ly"
       },
       "data": [
        {
         "fill": "toself",
         "hovertemplate": "r=%{r}<br>theta=%{theta}<extra></extra>",
         "legendgroup": "",
         "line": {
          "color": "#636efa",
          "dash": "solid"
         },
         "marker": {
          "symbol": "circle"
         },
         "mode": "lines",
         "name": "",
         "r": [
          51,
          "35",
          "8",
          "376",
          51
         ],
         "showlegend": false,
         "subplot": "polar",
         "theta": [
          "Mat",
          "Inns",
          "NO",
          "Runs",
          "Mat"
         ],
         "type": "scatterpolar"
        }
       ],
       "layout": {
        "legend": {
         "tracegroupgap": 0
        },
        "margin": {
         "t": 60
        },
        "polar": {
         "angularaxis": {
          "direction": "clockwise",
          "rotation": 90
         },
         "domain": {
          "x": [
           0,
           1
          ],
          "y": [
           0,
           1
          ]
         }
        },
        "showlegend": true,
        "template": {
         "data": {
          "bar": [
           {
            "error_x": {
             "color": "#2a3f5f"
            },
            "error_y": {
             "color": "#2a3f5f"
            },
            "marker": {
             "line": {
              "color": "#E5ECF6",
              "width": 0.5
             },
             "pattern": {
              "fillmode": "overlay",
              "size": 10,
              "solidity": 0.2
             }
            },
            "type": "bar"
           }
          ],
          "barpolar": [
           {
            "marker": {
             "line": {
              "color": "#E5ECF6",
              "width": 0.5
             },
             "pattern": {
              "fillmode": "overlay",
              "size": 10,
              "solidity": 0.2
             }
            },
            "type": "barpolar"
           }
          ],
          "carpet": [
           {
            "aaxis": {
             "endlinecolor": "#2a3f5f",
             "gridcolor": "white",
             "linecolor": "white",
             "minorgridcolor": "white",
             "startlinecolor": "#2a3f5f"
            },
            "baxis": {
             "endlinecolor": "#2a3f5f",
             "gridcolor": "white",
             "linecolor": "white",
             "minorgridcolor": "white",
             "startlinecolor": "#2a3f5f"
            },
            "type": "carpet"
           }
          ],
          "choropleth": [
           {
            "colorbar": {
             "outlinewidth": 0,
             "ticks": ""
            },
            "type": "choropleth"
           }
          ],
          "contour": [
           {
            "colorbar": {
             "outlinewidth": 0,
             "ticks": ""
            },
            "colorscale": [
             [
              0,
              "#0d0887"
             ],
             [
              0.1111111111111111,
              "#46039f"
             ],
             [
              0.2222222222222222,
              "#7201a8"
             ],
             [
              0.3333333333333333,
              "#9c179e"
             ],
             [
              0.4444444444444444,
              "#bd3786"
             ],
             [
              0.5555555555555556,
              "#d8576b"
             ],
             [
              0.6666666666666666,
              "#ed7953"
             ],
             [
              0.7777777777777778,
              "#fb9f3a"
             ],
             [
              0.8888888888888888,
              "#fdca26"
             ],
             [
              1,
              "#f0f921"
             ]
            ],
            "type": "contour"
           }
          ],
          "contourcarpet": [
           {
            "colorbar": {
             "outlinewidth": 0,
             "ticks": ""
            },
            "type": "contourcarpet"
           }
          ],
          "heatmap": [
           {
            "colorbar": {
             "outlinewidth": 0,
             "ticks": ""
            },
            "colorscale": [
             [
              0,
              "#0d0887"
             ],
             [
              0.1111111111111111,
              "#46039f"
             ],
             [
              0.2222222222222222,
              "#7201a8"
             ],
             [
              0.3333333333333333,
              "#9c179e"
             ],
             [
              0.4444444444444444,
              "#bd3786"
             ],
             [
              0.5555555555555556,
              "#d8576b"
             ],
             [
              0.6666666666666666,
              "#ed7953"
             ],
             [
              0.7777777777777778,
              "#fb9f3a"
             ],
             [
              0.8888888888888888,
              "#fdca26"
             ],
             [
              1,
              "#f0f921"
             ]
            ],
            "type": "heatmap"
           }
          ],
          "heatmapgl": [
           {
            "colorbar": {
             "outlinewidth": 0,
             "ticks": ""
            },
            "colorscale": [
             [
              0,
              "#0d0887"
             ],
             [
              0.1111111111111111,
              "#46039f"
             ],
             [
              0.2222222222222222,
              "#7201a8"
             ],
             [
              0.3333333333333333,
              "#9c179e"
             ],
             [
              0.4444444444444444,
              "#bd3786"
             ],
             [
              0.5555555555555556,
              "#d8576b"
             ],
             [
              0.6666666666666666,
              "#ed7953"
             ],
             [
              0.7777777777777778,
              "#fb9f3a"
             ],
             [
              0.8888888888888888,
              "#fdca26"
             ],
             [
              1,
              "#f0f921"
             ]
            ],
            "type": "heatmapgl"
           }
          ],
          "histogram": [
           {
            "marker": {
             "pattern": {
              "fillmode": "overlay",
              "size": 10,
              "solidity": 0.2
             }
            },
            "type": "histogram"
           }
          ],
          "histogram2d": [
           {
            "colorbar": {
             "outlinewidth": 0,
             "ticks": ""
            },
            "colorscale": [
             [
              0,
              "#0d0887"
             ],
             [
              0.1111111111111111,
              "#46039f"
             ],
             [
              0.2222222222222222,
              "#7201a8"
             ],
             [
              0.3333333333333333,
              "#9c179e"
             ],
             [
              0.4444444444444444,
              "#bd3786"
             ],
             [
              0.5555555555555556,
              "#d8576b"
             ],
             [
              0.6666666666666666,
              "#ed7953"
             ],
             [
              0.7777777777777778,
              "#fb9f3a"
             ],
             [
              0.8888888888888888,
              "#fdca26"
             ],
             [
              1,
              "#f0f921"
             ]
            ],
            "type": "histogram2d"
           }
          ],
          "histogram2dcontour": [
           {
            "colorbar": {
             "outlinewidth": 0,
             "ticks": ""
            },
            "colorscale": [
             [
              0,
              "#0d0887"
             ],
             [
              0.1111111111111111,
              "#46039f"
             ],
             [
              0.2222222222222222,
              "#7201a8"
             ],
             [
              0.3333333333333333,
              "#9c179e"
             ],
             [
              0.4444444444444444,
              "#bd3786"
             ],
             [
              0.5555555555555556,
              "#d8576b"
             ],
             [
              0.6666666666666666,
              "#ed7953"
             ],
             [
              0.7777777777777778,
              "#fb9f3a"
             ],
             [
              0.8888888888888888,
              "#fdca26"
             ],
             [
              1,
              "#f0f921"
             ]
            ],
            "type": "histogram2dcontour"
           }
          ],
          "mesh3d": [
           {
            "colorbar": {
             "outlinewidth": 0,
             "ticks": ""
            },
            "type": "mesh3d"
           }
          ],
          "parcoords": [
           {
            "line": {
             "colorbar": {
              "outlinewidth": 0,
              "ticks": ""
             }
            },
            "type": "parcoords"
           }
          ],
          "pie": [
           {
            "automargin": true,
            "type": "pie"
           }
          ],
          "scatter": [
           {
            "fillpattern": {
             "fillmode": "overlay",
             "size": 10,
             "solidity": 0.2
            },
            "type": "scatter"
           }
          ],
          "scatter3d": [
           {
            "line": {
             "colorbar": {
              "outlinewidth": 0,
              "ticks": ""
             }
            },
            "marker": {
             "colorbar": {
              "outlinewidth": 0,
              "ticks": ""
             }
            },
            "type": "scatter3d"
           }
          ],
          "scattercarpet": [
           {
            "marker": {
             "colorbar": {
              "outlinewidth": 0,
              "ticks": ""
             }
            },
            "type": "scattercarpet"
           }
          ],
          "scattergeo": [
           {
            "marker": {
             "colorbar": {
              "outlinewidth": 0,
              "ticks": ""
             }
            },
            "type": "scattergeo"
           }
          ],
          "scattergl": [
           {
            "marker": {
             "colorbar": {
              "outlinewidth": 0,
              "ticks": ""
             }
            },
            "type": "scattergl"
           }
          ],
          "scattermapbox": [
           {
            "marker": {
             "colorbar": {
              "outlinewidth": 0,
              "ticks": ""
             }
            },
            "type": "scattermapbox"
           }
          ],
          "scatterpolar": [
           {
            "marker": {
             "colorbar": {
              "outlinewidth": 0,
              "ticks": ""
             }
            },
            "type": "scatterpolar"
           }
          ],
          "scatterpolargl": [
           {
            "marker": {
             "colorbar": {
              "outlinewidth": 0,
              "ticks": ""
             }
            },
            "type": "scatterpolargl"
           }
          ],
          "scatterternary": [
           {
            "marker": {
             "colorbar": {
              "outlinewidth": 0,
              "ticks": ""
             }
            },
            "type": "scatterternary"
           }
          ],
          "surface": [
           {
            "colorbar": {
             "outlinewidth": 0,
             "ticks": ""
            },
            "colorscale": [
             [
              0,
              "#0d0887"
             ],
             [
              0.1111111111111111,
              "#46039f"
             ],
             [
              0.2222222222222222,
              "#7201a8"
             ],
             [
              0.3333333333333333,
              "#9c179e"
             ],
             [
              0.4444444444444444,
              "#bd3786"
             ],
             [
              0.5555555555555556,
              "#d8576b"
             ],
             [
              0.6666666666666666,
              "#ed7953"
             ],
             [
              0.7777777777777778,
              "#fb9f3a"
             ],
             [
              0.8888888888888888,
              "#fdca26"
             ],
             [
              1,
              "#f0f921"
             ]
            ],
            "type": "surface"
           }
          ],
          "table": [
           {
            "cells": {
             "fill": {
              "color": "#EBF0F8"
             },
             "line": {
              "color": "white"
             }
            },
            "header": {
             "fill": {
              "color": "#C8D4E3"
             },
             "line": {
              "color": "white"
             }
            },
            "type": "table"
           }
          ]
         },
         "layout": {
          "annotationdefaults": {
           "arrowcolor": "#2a3f5f",
           "arrowhead": 0,
           "arrowwidth": 1
          },
          "autotypenumbers": "strict",
          "coloraxis": {
           "colorbar": {
            "outlinewidth": 0,
            "ticks": ""
           }
          },
          "colorscale": {
           "diverging": [
            [
             0,
             "#8e0152"
            ],
            [
             0.1,
             "#c51b7d"
            ],
            [
             0.2,
             "#de77ae"
            ],
            [
             0.3,
             "#f1b6da"
            ],
            [
             0.4,
             "#fde0ef"
            ],
            [
             0.5,
             "#f7f7f7"
            ],
            [
             0.6,
             "#e6f5d0"
            ],
            [
             0.7,
             "#b8e186"
            ],
            [
             0.8,
             "#7fbc41"
            ],
            [
             0.9,
             "#4d9221"
            ],
            [
             1,
             "#276419"
            ]
           ],
           "sequential": [
            [
             0,
             "#0d0887"
            ],
            [
             0.1111111111111111,
             "#46039f"
            ],
            [
             0.2222222222222222,
             "#7201a8"
            ],
            [
             0.3333333333333333,
             "#9c179e"
            ],
            [
             0.4444444444444444,
             "#bd3786"
            ],
            [
             0.5555555555555556,
             "#d8576b"
            ],
            [
             0.6666666666666666,
             "#ed7953"
            ],
            [
             0.7777777777777778,
             "#fb9f3a"
            ],
            [
             0.8888888888888888,
             "#fdca26"
            ],
            [
             1,
             "#f0f921"
            ]
           ],
           "sequentialminus": [
            [
             0,
             "#0d0887"
            ],
            [
             0.1111111111111111,
             "#46039f"
            ],
            [
             0.2222222222222222,
             "#7201a8"
            ],
            [
             0.3333333333333333,
             "#9c179e"
            ],
            [
             0.4444444444444444,
             "#bd3786"
            ],
            [
             0.5555555555555556,
             "#d8576b"
            ],
            [
             0.6666666666666666,
             "#ed7953"
            ],
            [
             0.7777777777777778,
             "#fb9f3a"
            ],
            [
             0.8888888888888888,
             "#fdca26"
            ],
            [
             1,
             "#f0f921"
            ]
           ]
          },
          "colorway": [
           "#636efa",
           "#EF553B",
           "#00cc96",
           "#ab63fa",
           "#FFA15A",
           "#19d3f3",
           "#FF6692",
           "#B6E880",
           "#FF97FF",
           "#FECB52"
          ],
          "font": {
           "color": "#2a3f5f"
          },
          "geo": {
           "bgcolor": "white",
           "lakecolor": "white",
           "landcolor": "#E5ECF6",
           "showlakes": true,
           "showland": true,
           "subunitcolor": "white"
          },
          "hoverlabel": {
           "align": "left"
          },
          "hovermode": "closest",
          "mapbox": {
           "style": "light"
          },
          "paper_bgcolor": "white",
          "plot_bgcolor": "#E5ECF6",
          "polar": {
           "angularaxis": {
            "gridcolor": "white",
            "linecolor": "white",
            "ticks": ""
           },
           "bgcolor": "#E5ECF6",
           "radialaxis": {
            "gridcolor": "white",
            "linecolor": "white",
            "ticks": ""
           }
          },
          "scene": {
           "xaxis": {
            "backgroundcolor": "#E5ECF6",
            "gridcolor": "white",
            "gridwidth": 2,
            "linecolor": "white",
            "showbackground": true,
            "ticks": "",
            "zerolinecolor": "white"
           },
           "yaxis": {
            "backgroundcolor": "#E5ECF6",
            "gridcolor": "white",
            "gridwidth": 2,
            "linecolor": "white",
            "showbackground": true,
            "ticks": "",
            "zerolinecolor": "white"
           },
           "zaxis": {
            "backgroundcolor": "#E5ECF6",
            "gridcolor": "white",
            "gridwidth": 2,
            "linecolor": "white",
            "showbackground": true,
            "ticks": "",
            "zerolinecolor": "white"
           }
          },
          "shapedefaults": {
           "line": {
            "color": "#2a3f5f"
           }
          },
          "ternary": {
           "aaxis": {
            "gridcolor": "white",
            "linecolor": "white",
            "ticks": ""
           },
           "baxis": {
            "gridcolor": "white",
            "linecolor": "white",
            "ticks": ""
           },
           "bgcolor": "#E5ECF6",
           "caxis": {
            "gridcolor": "white",
            "linecolor": "white",
            "ticks": ""
           }
          },
          "title": {
           "x": 0.05
          },
          "xaxis": {
           "automargin": true,
           "gridcolor": "white",
           "linecolor": "white",
           "ticks": "",
           "title": {
            "standoff": 15
           },
           "zerolinecolor": "white",
           "zerolinewidth": 2
          },
          "yaxis": {
           "automargin": true,
           "gridcolor": "white",
           "linecolor": "white",
           "ticks": "",
           "title": {
            "standoff": 15
           },
           "zerolinecolor": "white",
           "zerolinewidth": 2
          }
         }
        }
       }
      }
     },
     "metadata": {},
     "output_type": "display_data"
    }
   ],
   "source": [
    "get_radar_plot(df , 'S Lamichhane' , ['Mat' , 'Inns'  ,'NO' , 'Runs'  ])"
   ]
  },
  {
   "cell_type": "code",
   "execution_count": 10,
   "metadata": {},
   "outputs": [
    {
     "data": {
      "text/plain": [
       "Index(['Player', 'Span', 'Mat', 'Inns', 'NO', 'Runs', 'HS', 'Ave', 'SR', '100',\n",
       "       '50', '0'],\n",
       "      dtype='object')"
      ]
     },
     "execution_count": 10,
     "metadata": {},
     "output_type": "execute_result"
    }
   ],
   "source": [
    "df.columns"
   ]
  },
  {
   "cell_type": "code",
   "execution_count": 11,
   "metadata": {},
   "outputs": [
    {
     "name": "stderr",
     "output_type": "stream",
     "text": [
      "C:\\Users\\A C E R\\AppData\\Local\\Temp\\ipykernel_17036\\3486695553.py:3: FutureWarning:\n",
      "\n",
      "The default value of regex will change from True to False in a future version. In addition, single character regular expressions will *not* be treated as literal strings when regex=True.\n",
      "\n"
     ]
    },
    {
     "data": {
      "text/plain": [
       "0       36\n",
       "1     None\n",
       "2       66\n",
       "3      110\n",
       "4      105\n",
       "5       18\n",
       "6        3\n",
       "7       59\n",
       "8        4\n",
       "9       11\n",
       "10     115\n",
       "11       2\n",
       "12       8\n",
       "13       4\n",
       "14       4\n",
       "15      12\n",
       "16    None\n",
       "17       9\n",
       "18      67\n",
       "19      28\n",
       "20      42\n",
       "21     115\n",
       "22      50\n",
       "23      76\n",
       "24     108\n",
       "25      35\n",
       "26       1\n",
       "27      75\n",
       "28     126\n",
       "29      11\n",
       "30      11\n",
       "31      12\n",
       "32       3\n",
       "33     112\n",
       "34      15\n",
       "35      51\n",
       "36       8\n",
       "37     101\n",
       "38      63\n",
       "39      10\n",
       "40      55\n",
       "Name: HS, dtype: object"
      ]
     },
     "execution_count": 11,
     "metadata": {},
     "output_type": "execute_result"
    }
   ],
   "source": [
    "columns  = ['Inns', 'NO', 'Runs', 'HS', 'Ave', 'SR', '100',\n",
    "       '50', '0']\n",
    "df['HS'] = df['HS'].str.replace('*' , '')\n",
    "df['HS']"
   ]
  },
  {
   "cell_type": "code",
   "execution_count": 12,
   "metadata": {},
   "outputs": [
    {
     "data": {
      "text/html": [
       "<div>\n",
       "<style scoped>\n",
       "    .dataframe tbody tr th:only-of-type {\n",
       "        vertical-align: middle;\n",
       "    }\n",
       "\n",
       "    .dataframe tbody tr th {\n",
       "        vertical-align: top;\n",
       "    }\n",
       "\n",
       "    .dataframe thead th {\n",
       "        text-align: right;\n",
       "    }\n",
       "</style>\n",
       "<table border=\"1\" class=\"dataframe\">\n",
       "  <thead>\n",
       "    <tr style=\"text-align: right;\">\n",
       "      <th></th>\n",
       "      <th>Player</th>\n",
       "      <th>Span</th>\n",
       "      <th>Mat</th>\n",
       "      <th>Inns</th>\n",
       "      <th>NO</th>\n",
       "      <th>Runs</th>\n",
       "      <th>HS</th>\n",
       "      <th>Ave</th>\n",
       "      <th>SR</th>\n",
       "      <th>100</th>\n",
       "      <th>50</th>\n",
       "      <th>0</th>\n",
       "    </tr>\n",
       "  </thead>\n",
       "  <tbody>\n",
       "    <tr>\n",
       "      <th>0</th>\n",
       "      <td>Mohammad Aadil Alam</td>\n",
       "      <td>2022-2022</td>\n",
       "      <td>6</td>\n",
       "      <td>5.0</td>\n",
       "      <td>1.0</td>\n",
       "      <td>70.0</td>\n",
       "      <td>36.0</td>\n",
       "      <td>17.50</td>\n",
       "      <td>90.90</td>\n",
       "      <td>NaN</td>\n",
       "      <td>NaN</td>\n",
       "      <td>NaN</td>\n",
       "    </tr>\n",
       "    <tr>\n",
       "      <th>1</th>\n",
       "      <td>Aakash Chand</td>\n",
       "      <td>2024-2024</td>\n",
       "      <td>2</td>\n",
       "      <td>NaN</td>\n",
       "      <td>NaN</td>\n",
       "      <td>NaN</td>\n",
       "      <td>NaN</td>\n",
       "      <td>NaN</td>\n",
       "      <td>NaN</td>\n",
       "      <td>NaN</td>\n",
       "      <td>NaN</td>\n",
       "      <td>NaN</td>\n",
       "    </tr>\n",
       "    <tr>\n",
       "      <th>2</th>\n",
       "      <td>Aarif Sheikh</td>\n",
       "      <td>2018-2024</td>\n",
       "      <td>51</td>\n",
       "      <td>43.0</td>\n",
       "      <td>5.0</td>\n",
       "      <td>964.0</td>\n",
       "      <td>66.0</td>\n",
       "      <td>25.36</td>\n",
       "      <td>62.43</td>\n",
       "      <td>NaN</td>\n",
       "      <td>6.0</td>\n",
       "      <td>4.0</td>\n",
       "    </tr>\n",
       "    <tr>\n",
       "      <th>3</th>\n",
       "      <td>Aasif Sheikh</td>\n",
       "      <td>2021-2024</td>\n",
       "      <td>49</td>\n",
       "      <td>49.0</td>\n",
       "      <td>4.0</td>\n",
       "      <td>1401.0</td>\n",
       "      <td>110.0</td>\n",
       "      <td>31.13</td>\n",
       "      <td>76.97</td>\n",
       "      <td>1.0</td>\n",
       "      <td>12.0</td>\n",
       "      <td>5.0</td>\n",
       "    </tr>\n",
       "    <tr>\n",
       "      <th>4</th>\n",
       "      <td>DS Airee</td>\n",
       "      <td>2018-2024</td>\n",
       "      <td>55</td>\n",
       "      <td>53.0</td>\n",
       "      <td>6.0</td>\n",
       "      <td>896.0</td>\n",
       "      <td>105.0</td>\n",
       "      <td>19.06</td>\n",
       "      <td>71.22</td>\n",
       "      <td>1.0</td>\n",
       "      <td>3.0</td>\n",
       "      <td>8.0</td>\n",
       "    </tr>\n",
       "    <tr>\n",
       "      <th>5</th>\n",
       "      <td>KS Airee</td>\n",
       "      <td>2020-2022</td>\n",
       "      <td>3</td>\n",
       "      <td>3.0</td>\n",
       "      <td>2.0</td>\n",
       "      <td>27.0</td>\n",
       "      <td>18.0</td>\n",
       "      <td>27.00</td>\n",
       "      <td>112.50</td>\n",
       "      <td>NaN</td>\n",
       "      <td>NaN</td>\n",
       "      <td>1.0</td>\n",
       "    </tr>\n",
       "    <tr>\n",
       "      <th>6</th>\n",
       "      <td>Basir Ahamad</td>\n",
       "      <td>2022-2022</td>\n",
       "      <td>3</td>\n",
       "      <td>2.0</td>\n",
       "      <td>NaN</td>\n",
       "      <td>3.0</td>\n",
       "      <td>3.0</td>\n",
       "      <td>1.50</td>\n",
       "      <td>23.07</td>\n",
       "      <td>NaN</td>\n",
       "      <td>NaN</td>\n",
       "      <td>1.0</td>\n",
       "    </tr>\n",
       "    <tr>\n",
       "      <th>7</th>\n",
       "      <td>B Bhandari</td>\n",
       "      <td>2019-2022</td>\n",
       "      <td>17</td>\n",
       "      <td>14.0</td>\n",
       "      <td>NaN</td>\n",
       "      <td>275.0</td>\n",
       "      <td>59.0</td>\n",
       "      <td>19.64</td>\n",
       "      <td>59.65</td>\n",
       "      <td>NaN</td>\n",
       "      <td>1.0</td>\n",
       "      <td>NaN</td>\n",
       "    </tr>\n",
       "    <tr>\n",
       "      <th>8</th>\n",
       "      <td>LS Bhandari</td>\n",
       "      <td>2018-2018</td>\n",
       "      <td>1</td>\n",
       "      <td>1.0</td>\n",
       "      <td>1.0</td>\n",
       "      <td>4.0</td>\n",
       "      <td>4.0</td>\n",
       "      <td>NaN</td>\n",
       "      <td>44.44</td>\n",
       "      <td>NaN</td>\n",
       "      <td>NaN</td>\n",
       "      <td>NaN</td>\n",
       "    </tr>\n",
       "    <tr>\n",
       "      <th>9</th>\n",
       "      <td>S Bhari</td>\n",
       "      <td>2020-2022</td>\n",
       "      <td>11</td>\n",
       "      <td>7.0</td>\n",
       "      <td>5.0</td>\n",
       "      <td>24.0</td>\n",
       "      <td>11.0</td>\n",
       "      <td>12.00</td>\n",
       "      <td>44.44</td>\n",
       "      <td>NaN</td>\n",
       "      <td>NaN</td>\n",
       "      <td>NaN</td>\n",
       "    </tr>\n",
       "    <tr>\n",
       "      <th>10</th>\n",
       "      <td>K Bhurtel</td>\n",
       "      <td>2021-2024</td>\n",
       "      <td>52</td>\n",
       "      <td>51.0</td>\n",
       "      <td>NaN</td>\n",
       "      <td>1219.0</td>\n",
       "      <td>115.0</td>\n",
       "      <td>23.90</td>\n",
       "      <td>83.26</td>\n",
       "      <td>1.0</td>\n",
       "      <td>8.0</td>\n",
       "      <td>7.0</td>\n",
       "    </tr>\n",
       "    <tr>\n",
       "      <th>11</th>\n",
       "      <td>Bikram Sob</td>\n",
       "      <td>2021-2022</td>\n",
       "      <td>5</td>\n",
       "      <td>4.0</td>\n",
       "      <td>1.0</td>\n",
       "      <td>4.0</td>\n",
       "      <td>2.0</td>\n",
       "      <td>1.33</td>\n",
       "      <td>23.52</td>\n",
       "      <td>NaN</td>\n",
       "      <td>NaN</td>\n",
       "      <td>NaN</td>\n",
       "    </tr>\n",
       "    <tr>\n",
       "      <th>12</th>\n",
       "      <td>A Bohara</td>\n",
       "      <td>2020-2020</td>\n",
       "      <td>2</td>\n",
       "      <td>2.0</td>\n",
       "      <td>2.0</td>\n",
       "      <td>13.0</td>\n",
       "      <td>8.0</td>\n",
       "      <td>NaN</td>\n",
       "      <td>92.85</td>\n",
       "      <td>NaN</td>\n",
       "      <td>NaN</td>\n",
       "      <td>NaN</td>\n",
       "    </tr>\n",
       "    <tr>\n",
       "      <th>13</th>\n",
       "      <td>R Dhakal</td>\n",
       "      <td>2024-2024</td>\n",
       "      <td>2</td>\n",
       "      <td>1.0</td>\n",
       "      <td>NaN</td>\n",
       "      <td>4.0</td>\n",
       "      <td>4.0</td>\n",
       "      <td>4.00</td>\n",
       "      <td>100.00</td>\n",
       "      <td>NaN</td>\n",
       "      <td>NaN</td>\n",
       "      <td>NaN</td>\n",
       "    </tr>\n",
       "    <tr>\n",
       "      <th>14</th>\n",
       "      <td>S Dhakal</td>\n",
       "      <td>2022-2022</td>\n",
       "      <td>8</td>\n",
       "      <td>6.0</td>\n",
       "      <td>5.0</td>\n",
       "      <td>7.0</td>\n",
       "      <td>4.0</td>\n",
       "      <td>7.00</td>\n",
       "      <td>17.07</td>\n",
       "      <td>NaN</td>\n",
       "      <td>NaN</td>\n",
       "      <td>NaN</td>\n",
       "    </tr>\n",
       "    <tr>\n",
       "      <th>15</th>\n",
       "      <td>S Dhamala</td>\n",
       "      <td>2022-2022</td>\n",
       "      <td>1</td>\n",
       "      <td>1.0</td>\n",
       "      <td>NaN</td>\n",
       "      <td>12.0</td>\n",
       "      <td>12.0</td>\n",
       "      <td>12.00</td>\n",
       "      <td>31.57</td>\n",
       "      <td>NaN</td>\n",
       "      <td>NaN</td>\n",
       "      <td>NaN</td>\n",
       "    </tr>\n",
       "    <tr>\n",
       "      <th>16</th>\n",
       "      <td>H Dhami</td>\n",
       "      <td>2024-2024</td>\n",
       "      <td>1</td>\n",
       "      <td>NaN</td>\n",
       "      <td>NaN</td>\n",
       "      <td>NaN</td>\n",
       "      <td>NaN</td>\n",
       "      <td>NaN</td>\n",
       "      <td>NaN</td>\n",
       "      <td>NaN</td>\n",
       "      <td>NaN</td>\n",
       "      <td>NaN</td>\n",
       "    </tr>\n",
       "    <tr>\n",
       "      <th>17</th>\n",
       "      <td>SP Gauchan</td>\n",
       "      <td>2018-2018</td>\n",
       "      <td>1</td>\n",
       "      <td>1.0</td>\n",
       "      <td>1.0</td>\n",
       "      <td>9.0</td>\n",
       "      <td>9.0</td>\n",
       "      <td>NaN</td>\n",
       "      <td>20.45</td>\n",
       "      <td>NaN</td>\n",
       "      <td>NaN</td>\n",
       "      <td>NaN</td>\n",
       "    </tr>\n",
       "    <tr>\n",
       "      <th>18</th>\n",
       "      <td>Gulsan Jha</td>\n",
       "      <td>2021-2024</td>\n",
       "      <td>27</td>\n",
       "      <td>22.0</td>\n",
       "      <td>5.0</td>\n",
       "      <td>514.0</td>\n",
       "      <td>67.0</td>\n",
       "      <td>30.23</td>\n",
       "      <td>73.63</td>\n",
       "      <td>NaN</td>\n",
       "      <td>3.0</td>\n",
       "      <td>NaN</td>\n",
       "    </tr>\n",
       "    <tr>\n",
       "      <th>19</th>\n",
       "      <td>S Jora</td>\n",
       "      <td>2019-2023</td>\n",
       "      <td>5</td>\n",
       "      <td>5.0</td>\n",
       "      <td>NaN</td>\n",
       "      <td>56.0</td>\n",
       "      <td>28.0</td>\n",
       "      <td>11.20</td>\n",
       "      <td>83.58</td>\n",
       "      <td>NaN</td>\n",
       "      <td>NaN</td>\n",
       "      <td>NaN</td>\n",
       "    </tr>\n",
       "    <tr>\n",
       "      <th>20</th>\n",
       "      <td>Karan KC</td>\n",
       "      <td>2018-2024</td>\n",
       "      <td>51</td>\n",
       "      <td>36.0</td>\n",
       "      <td>8.0</td>\n",
       "      <td>412.0</td>\n",
       "      <td>42.0</td>\n",
       "      <td>14.71</td>\n",
       "      <td>84.25</td>\n",
       "      <td>NaN</td>\n",
       "      <td>NaN</td>\n",
       "      <td>4.0</td>\n",
       "    </tr>\n",
       "    <tr>\n",
       "      <th>21</th>\n",
       "      <td>P Khadka</td>\n",
       "      <td>2018-2020</td>\n",
       "      <td>10</td>\n",
       "      <td>10.0</td>\n",
       "      <td>1.0</td>\n",
       "      <td>315.0</td>\n",
       "      <td>115.0</td>\n",
       "      <td>35.00</td>\n",
       "      <td>79.14</td>\n",
       "      <td>1.0</td>\n",
       "      <td>1.0</td>\n",
       "      <td>NaN</td>\n",
       "    </tr>\n",
       "    <tr>\n",
       "      <th>22</th>\n",
       "      <td>SP Khakurel</td>\n",
       "      <td>2018-2022</td>\n",
       "      <td>6</td>\n",
       "      <td>6.0</td>\n",
       "      <td>NaN</td>\n",
       "      <td>97.0</td>\n",
       "      <td>50.0</td>\n",
       "      <td>16.16</td>\n",
       "      <td>50.25</td>\n",
       "      <td>NaN</td>\n",
       "      <td>1.0</td>\n",
       "      <td>1.0</td>\n",
       "    </tr>\n",
       "    <tr>\n",
       "      <th>23</th>\n",
       "      <td>D Khanal</td>\n",
       "      <td>2022-2024</td>\n",
       "      <td>14</td>\n",
       "      <td>12.0</td>\n",
       "      <td>NaN</td>\n",
       "      <td>329.0</td>\n",
       "      <td>76.0</td>\n",
       "      <td>27.41</td>\n",
       "      <td>69.11</td>\n",
       "      <td>NaN</td>\n",
       "      <td>3.0</td>\n",
       "      <td>2.0</td>\n",
       "    </tr>\n",
       "    <tr>\n",
       "      <th>24</th>\n",
       "      <td>Kushal Malla</td>\n",
       "      <td>2020-2024</td>\n",
       "      <td>36</td>\n",
       "      <td>32.0</td>\n",
       "      <td>3.0</td>\n",
       "      <td>716.0</td>\n",
       "      <td>108.0</td>\n",
       "      <td>24.68</td>\n",
       "      <td>96.23</td>\n",
       "      <td>1.0</td>\n",
       "      <td>4.0</td>\n",
       "      <td>1.0</td>\n",
       "    </tr>\n",
       "    <tr>\n",
       "      <th>25</th>\n",
       "      <td>S Lamichhane</td>\n",
       "      <td>2018-2023</td>\n",
       "      <td>51</td>\n",
       "      <td>35.0</td>\n",
       "      <td>8.0</td>\n",
       "      <td>376.0</td>\n",
       "      <td>35.0</td>\n",
       "      <td>13.92</td>\n",
       "      <td>82.81</td>\n",
       "      <td>NaN</td>\n",
       "      <td>NaN</td>\n",
       "      <td>7.0</td>\n",
       "    </tr>\n",
       "    <tr>\n",
       "      <th>26</th>\n",
       "      <td>K Mahato</td>\n",
       "      <td>2022-2023</td>\n",
       "      <td>2</td>\n",
       "      <td>2.0</td>\n",
       "      <td>2.0</td>\n",
       "      <td>1.0</td>\n",
       "      <td>1.0</td>\n",
       "      <td>NaN</td>\n",
       "      <td>10.00</td>\n",
       "      <td>NaN</td>\n",
       "      <td>NaN</td>\n",
       "      <td>NaN</td>\n",
       "    </tr>\n",
       "    <tr>\n",
       "      <th>27</th>\n",
       "      <td>G Malla</td>\n",
       "      <td>2018-2023</td>\n",
       "      <td>37</td>\n",
       "      <td>37.0</td>\n",
       "      <td>1.0</td>\n",
       "      <td>876.0</td>\n",
       "      <td>75.0</td>\n",
       "      <td>24.33</td>\n",
       "      <td>66.46</td>\n",
       "      <td>NaN</td>\n",
       "      <td>7.0</td>\n",
       "      <td>3.0</td>\n",
       "    </tr>\n",
       "    <tr>\n",
       "      <th>28</th>\n",
       "      <td>RK Paudel</td>\n",
       "      <td>2018-2024</td>\n",
       "      <td>61</td>\n",
       "      <td>58.0</td>\n",
       "      <td>5.0</td>\n",
       "      <td>1586.0</td>\n",
       "      <td>126.0</td>\n",
       "      <td>29.92</td>\n",
       "      <td>74.56</td>\n",
       "      <td>1.0</td>\n",
       "      <td>9.0</td>\n",
       "      <td>5.0</td>\n",
       "    </tr>\n",
       "    <tr>\n",
       "      <th>29</th>\n",
       "      <td>Pratis GC</td>\n",
       "      <td>2023-2023</td>\n",
       "      <td>3</td>\n",
       "      <td>1.0</td>\n",
       "      <td>1.0</td>\n",
       "      <td>11.0</td>\n",
       "      <td>11.0</td>\n",
       "      <td>NaN</td>\n",
       "      <td>183.33</td>\n",
       "      <td>NaN</td>\n",
       "      <td>NaN</td>\n",
       "      <td>NaN</td>\n",
       "    </tr>\n",
       "    <tr>\n",
       "      <th>30</th>\n",
       "      <td>LN Rajbanshi</td>\n",
       "      <td>2019-2024</td>\n",
       "      <td>29</td>\n",
       "      <td>16.0</td>\n",
       "      <td>10.0</td>\n",
       "      <td>37.0</td>\n",
       "      <td>11.0</td>\n",
       "      <td>6.16</td>\n",
       "      <td>29.13</td>\n",
       "      <td>NaN</td>\n",
       "      <td>NaN</td>\n",
       "      <td>2.0</td>\n",
       "    </tr>\n",
       "    <tr>\n",
       "      <th>31</th>\n",
       "      <td>B Regmi</td>\n",
       "      <td>2018-2019</td>\n",
       "      <td>4</td>\n",
       "      <td>4.0</td>\n",
       "      <td>NaN</td>\n",
       "      <td>13.0</td>\n",
       "      <td>12.0</td>\n",
       "      <td>3.25</td>\n",
       "      <td>27.65</td>\n",
       "      <td>NaN</td>\n",
       "      <td>NaN</td>\n",
       "      <td>2.0</td>\n",
       "    </tr>\n",
       "    <tr>\n",
       "      <th>32</th>\n",
       "      <td>Sagar Pun</td>\n",
       "      <td>2018-2018</td>\n",
       "      <td>1</td>\n",
       "      <td>1.0</td>\n",
       "      <td>NaN</td>\n",
       "      <td>3.0</td>\n",
       "      <td>3.0</td>\n",
       "      <td>3.00</td>\n",
       "      <td>15.00</td>\n",
       "      <td>NaN</td>\n",
       "      <td>NaN</td>\n",
       "      <td>NaN</td>\n",
       "    </tr>\n",
       "    <tr>\n",
       "      <th>33</th>\n",
       "      <td>AK Sah</td>\n",
       "      <td>2018-2024</td>\n",
       "      <td>10</td>\n",
       "      <td>10.0</td>\n",
       "      <td>2.0</td>\n",
       "      <td>266.0</td>\n",
       "      <td>112.0</td>\n",
       "      <td>33.25</td>\n",
       "      <td>103.50</td>\n",
       "      <td>1.0</td>\n",
       "      <td>2.0</td>\n",
       "      <td>1.0</td>\n",
       "    </tr>\n",
       "    <tr>\n",
       "      <th>34</th>\n",
       "      <td>P Sarraf</td>\n",
       "      <td>2019-2024</td>\n",
       "      <td>12</td>\n",
       "      <td>10.0</td>\n",
       "      <td>1.0</td>\n",
       "      <td>72.0</td>\n",
       "      <td>15.0</td>\n",
       "      <td>8.00</td>\n",
       "      <td>62.06</td>\n",
       "      <td>NaN</td>\n",
       "      <td>NaN</td>\n",
       "      <td>2.0</td>\n",
       "    </tr>\n",
       "    <tr>\n",
       "      <th>35</th>\n",
       "      <td>A Saud</td>\n",
       "      <td>2022-2023</td>\n",
       "      <td>9</td>\n",
       "      <td>9.0</td>\n",
       "      <td>NaN</td>\n",
       "      <td>174.0</td>\n",
       "      <td>51.0</td>\n",
       "      <td>19.33</td>\n",
       "      <td>50.00</td>\n",
       "      <td>NaN</td>\n",
       "      <td>1.0</td>\n",
       "      <td>2.0</td>\n",
       "    </tr>\n",
       "    <tr>\n",
       "      <th>36</th>\n",
       "      <td>H Shah</td>\n",
       "      <td>2022-2022</td>\n",
       "      <td>3</td>\n",
       "      <td>3.0</td>\n",
       "      <td>1.0</td>\n",
       "      <td>9.0</td>\n",
       "      <td>8.0</td>\n",
       "      <td>4.50</td>\n",
       "      <td>36.00</td>\n",
       "      <td>NaN</td>\n",
       "      <td>NaN</td>\n",
       "      <td>NaN</td>\n",
       "    </tr>\n",
       "    <tr>\n",
       "      <th>37</th>\n",
       "      <td>B Sharki</td>\n",
       "      <td>2022-2024</td>\n",
       "      <td>25</td>\n",
       "      <td>22.0</td>\n",
       "      <td>3.0</td>\n",
       "      <td>670.0</td>\n",
       "      <td>101.0</td>\n",
       "      <td>35.26</td>\n",
       "      <td>67.60</td>\n",
       "      <td>1.0</td>\n",
       "      <td>3.0</td>\n",
       "      <td>2.0</td>\n",
       "    </tr>\n",
       "    <tr>\n",
       "      <th>38</th>\n",
       "      <td>Sompal Kami</td>\n",
       "      <td>2018-2024</td>\n",
       "      <td>54</td>\n",
       "      <td>42.0</td>\n",
       "      <td>14.0</td>\n",
       "      <td>596.0</td>\n",
       "      <td>63.0</td>\n",
       "      <td>21.28</td>\n",
       "      <td>73.39</td>\n",
       "      <td>NaN</td>\n",
       "      <td>2.0</td>\n",
       "      <td>2.0</td>\n",
       "    </tr>\n",
       "    <tr>\n",
       "      <th>39</th>\n",
       "      <td>Surya Tamang</td>\n",
       "      <td>2024-2024</td>\n",
       "      <td>2</td>\n",
       "      <td>1.0</td>\n",
       "      <td>1.0</td>\n",
       "      <td>10.0</td>\n",
       "      <td>10.0</td>\n",
       "      <td>NaN</td>\n",
       "      <td>31.25</td>\n",
       "      <td>NaN</td>\n",
       "      <td>NaN</td>\n",
       "      <td>NaN</td>\n",
       "    </tr>\n",
       "    <tr>\n",
       "      <th>40</th>\n",
       "      <td>S Vesawkar</td>\n",
       "      <td>2018-2021</td>\n",
       "      <td>4</td>\n",
       "      <td>4.0</td>\n",
       "      <td>1.0</td>\n",
       "      <td>66.0</td>\n",
       "      <td>55.0</td>\n",
       "      <td>22.00</td>\n",
       "      <td>43.70</td>\n",
       "      <td>NaN</td>\n",
       "      <td>1.0</td>\n",
       "      <td>NaN</td>\n",
       "    </tr>\n",
       "  </tbody>\n",
       "</table>\n",
       "</div>"
      ],
      "text/plain": [
       "                 Player       Span  Mat  Inns    NO    Runs     HS    Ave  \\\n",
       "0   Mohammad Aadil Alam  2022-2022    6   5.0   1.0    70.0   36.0  17.50   \n",
       "1          Aakash Chand  2024-2024    2   NaN   NaN     NaN    NaN    NaN   \n",
       "2          Aarif Sheikh  2018-2024   51  43.0   5.0   964.0   66.0  25.36   \n",
       "3          Aasif Sheikh  2021-2024   49  49.0   4.0  1401.0  110.0  31.13   \n",
       "4              DS Airee  2018-2024   55  53.0   6.0   896.0  105.0  19.06   \n",
       "5              KS Airee  2020-2022    3   3.0   2.0    27.0   18.0  27.00   \n",
       "6          Basir Ahamad  2022-2022    3   2.0   NaN     3.0    3.0   1.50   \n",
       "7            B Bhandari  2019-2022   17  14.0   NaN   275.0   59.0  19.64   \n",
       "8           LS Bhandari  2018-2018    1   1.0   1.0     4.0    4.0    NaN   \n",
       "9               S Bhari  2020-2022   11   7.0   5.0    24.0   11.0  12.00   \n",
       "10            K Bhurtel  2021-2024   52  51.0   NaN  1219.0  115.0  23.90   \n",
       "11           Bikram Sob  2021-2022    5   4.0   1.0     4.0    2.0   1.33   \n",
       "12             A Bohara  2020-2020    2   2.0   2.0    13.0    8.0    NaN   \n",
       "13             R Dhakal  2024-2024    2   1.0   NaN     4.0    4.0   4.00   \n",
       "14             S Dhakal  2022-2022    8   6.0   5.0     7.0    4.0   7.00   \n",
       "15            S Dhamala  2022-2022    1   1.0   NaN    12.0   12.0  12.00   \n",
       "16              H Dhami  2024-2024    1   NaN   NaN     NaN    NaN    NaN   \n",
       "17           SP Gauchan  2018-2018    1   1.0   1.0     9.0    9.0    NaN   \n",
       "18           Gulsan Jha  2021-2024   27  22.0   5.0   514.0   67.0  30.23   \n",
       "19               S Jora  2019-2023    5   5.0   NaN    56.0   28.0  11.20   \n",
       "20             Karan KC  2018-2024   51  36.0   8.0   412.0   42.0  14.71   \n",
       "21             P Khadka  2018-2020   10  10.0   1.0   315.0  115.0  35.00   \n",
       "22          SP Khakurel  2018-2022    6   6.0   NaN    97.0   50.0  16.16   \n",
       "23             D Khanal  2022-2024   14  12.0   NaN   329.0   76.0  27.41   \n",
       "24         Kushal Malla  2020-2024   36  32.0   3.0   716.0  108.0  24.68   \n",
       "25         S Lamichhane  2018-2023   51  35.0   8.0   376.0   35.0  13.92   \n",
       "26             K Mahato  2022-2023    2   2.0   2.0     1.0    1.0    NaN   \n",
       "27              G Malla  2018-2023   37  37.0   1.0   876.0   75.0  24.33   \n",
       "28            RK Paudel  2018-2024   61  58.0   5.0  1586.0  126.0  29.92   \n",
       "29            Pratis GC  2023-2023    3   1.0   1.0    11.0   11.0    NaN   \n",
       "30         LN Rajbanshi  2019-2024   29  16.0  10.0    37.0   11.0   6.16   \n",
       "31              B Regmi  2018-2019    4   4.0   NaN    13.0   12.0   3.25   \n",
       "32            Sagar Pun  2018-2018    1   1.0   NaN     3.0    3.0   3.00   \n",
       "33               AK Sah  2018-2024   10  10.0   2.0   266.0  112.0  33.25   \n",
       "34             P Sarraf  2019-2024   12  10.0   1.0    72.0   15.0   8.00   \n",
       "35               A Saud  2022-2023    9   9.0   NaN   174.0   51.0  19.33   \n",
       "36               H Shah  2022-2022    3   3.0   1.0     9.0    8.0   4.50   \n",
       "37             B Sharki  2022-2024   25  22.0   3.0   670.0  101.0  35.26   \n",
       "38          Sompal Kami  2018-2024   54  42.0  14.0   596.0   63.0  21.28   \n",
       "39         Surya Tamang  2024-2024    2   1.0   1.0    10.0   10.0    NaN   \n",
       "40           S Vesawkar  2018-2021    4   4.0   1.0    66.0   55.0  22.00   \n",
       "\n",
       "        SR  100    50    0  \n",
       "0    90.90  NaN   NaN  NaN  \n",
       "1      NaN  NaN   NaN  NaN  \n",
       "2    62.43  NaN   6.0  4.0  \n",
       "3    76.97  1.0  12.0  5.0  \n",
       "4    71.22  1.0   3.0  8.0  \n",
       "5   112.50  NaN   NaN  1.0  \n",
       "6    23.07  NaN   NaN  1.0  \n",
       "7    59.65  NaN   1.0  NaN  \n",
       "8    44.44  NaN   NaN  NaN  \n",
       "9    44.44  NaN   NaN  NaN  \n",
       "10   83.26  1.0   8.0  7.0  \n",
       "11   23.52  NaN   NaN  NaN  \n",
       "12   92.85  NaN   NaN  NaN  \n",
       "13  100.00  NaN   NaN  NaN  \n",
       "14   17.07  NaN   NaN  NaN  \n",
       "15   31.57  NaN   NaN  NaN  \n",
       "16     NaN  NaN   NaN  NaN  \n",
       "17   20.45  NaN   NaN  NaN  \n",
       "18   73.63  NaN   3.0  NaN  \n",
       "19   83.58  NaN   NaN  NaN  \n",
       "20   84.25  NaN   NaN  4.0  \n",
       "21   79.14  1.0   1.0  NaN  \n",
       "22   50.25  NaN   1.0  1.0  \n",
       "23   69.11  NaN   3.0  2.0  \n",
       "24   96.23  1.0   4.0  1.0  \n",
       "25   82.81  NaN   NaN  7.0  \n",
       "26   10.00  NaN   NaN  NaN  \n",
       "27   66.46  NaN   7.0  3.0  \n",
       "28   74.56  1.0   9.0  5.0  \n",
       "29  183.33  NaN   NaN  NaN  \n",
       "30   29.13  NaN   NaN  2.0  \n",
       "31   27.65  NaN   NaN  2.0  \n",
       "32   15.00  NaN   NaN  NaN  \n",
       "33  103.50  1.0   2.0  1.0  \n",
       "34   62.06  NaN   NaN  2.0  \n",
       "35   50.00  NaN   1.0  2.0  \n",
       "36   36.00  NaN   NaN  NaN  \n",
       "37   67.60  1.0   3.0  2.0  \n",
       "38   73.39  NaN   2.0  2.0  \n",
       "39   31.25  NaN   NaN  NaN  \n",
       "40   43.70  NaN   1.0  NaN  "
      ]
     },
     "execution_count": 12,
     "metadata": {},
     "output_type": "execute_result"
    }
   ],
   "source": [
    "df[columns] = df[columns].apply(pd.to_numeric, errors='coerce')\n",
    "df"
   ]
  },
  {
   "cell_type": "code",
   "execution_count": 13,
   "metadata": {},
   "outputs": [
    {
     "data": {
      "text/html": [
       "<div>\n",
       "<style scoped>\n",
       "    .dataframe tbody tr th:only-of-type {\n",
       "        vertical-align: middle;\n",
       "    }\n",
       "\n",
       "    .dataframe tbody tr th {\n",
       "        vertical-align: top;\n",
       "    }\n",
       "\n",
       "    .dataframe thead th {\n",
       "        text-align: right;\n",
       "    }\n",
       "</style>\n",
       "<table border=\"1\" class=\"dataframe\">\n",
       "  <thead>\n",
       "    <tr style=\"text-align: right;\">\n",
       "      <th></th>\n",
       "      <th>Player</th>\n",
       "      <th>Span</th>\n",
       "      <th>Mat</th>\n",
       "      <th>Inns</th>\n",
       "      <th>NO</th>\n",
       "      <th>Runs</th>\n",
       "      <th>HS</th>\n",
       "      <th>Ave</th>\n",
       "      <th>SR</th>\n",
       "      <th>100</th>\n",
       "      <th>50</th>\n",
       "      <th>0</th>\n",
       "    </tr>\n",
       "  </thead>\n",
       "  <tbody>\n",
       "    <tr>\n",
       "      <th>28</th>\n",
       "      <td>RK Paudel</td>\n",
       "      <td>2018-2024</td>\n",
       "      <td>61</td>\n",
       "      <td>58.0</td>\n",
       "      <td>5.0</td>\n",
       "      <td>1586.0</td>\n",
       "      <td>126.0</td>\n",
       "      <td>29.92</td>\n",
       "      <td>74.56</td>\n",
       "      <td>1.0</td>\n",
       "      <td>9.0</td>\n",
       "      <td>5.0</td>\n",
       "    </tr>\n",
       "    <tr>\n",
       "      <th>21</th>\n",
       "      <td>P Khadka</td>\n",
       "      <td>2018-2020</td>\n",
       "      <td>10</td>\n",
       "      <td>10.0</td>\n",
       "      <td>1.0</td>\n",
       "      <td>315.0</td>\n",
       "      <td>115.0</td>\n",
       "      <td>35.00</td>\n",
       "      <td>79.14</td>\n",
       "      <td>1.0</td>\n",
       "      <td>1.0</td>\n",
       "      <td>NaN</td>\n",
       "    </tr>\n",
       "    <tr>\n",
       "      <th>10</th>\n",
       "      <td>K Bhurtel</td>\n",
       "      <td>2021-2024</td>\n",
       "      <td>52</td>\n",
       "      <td>51.0</td>\n",
       "      <td>NaN</td>\n",
       "      <td>1219.0</td>\n",
       "      <td>115.0</td>\n",
       "      <td>23.90</td>\n",
       "      <td>83.26</td>\n",
       "      <td>1.0</td>\n",
       "      <td>8.0</td>\n",
       "      <td>7.0</td>\n",
       "    </tr>\n",
       "    <tr>\n",
       "      <th>33</th>\n",
       "      <td>AK Sah</td>\n",
       "      <td>2018-2024</td>\n",
       "      <td>10</td>\n",
       "      <td>10.0</td>\n",
       "      <td>2.0</td>\n",
       "      <td>266.0</td>\n",
       "      <td>112.0</td>\n",
       "      <td>33.25</td>\n",
       "      <td>103.50</td>\n",
       "      <td>1.0</td>\n",
       "      <td>2.0</td>\n",
       "      <td>1.0</td>\n",
       "    </tr>\n",
       "    <tr>\n",
       "      <th>3</th>\n",
       "      <td>Aasif Sheikh</td>\n",
       "      <td>2021-2024</td>\n",
       "      <td>49</td>\n",
       "      <td>49.0</td>\n",
       "      <td>4.0</td>\n",
       "      <td>1401.0</td>\n",
       "      <td>110.0</td>\n",
       "      <td>31.13</td>\n",
       "      <td>76.97</td>\n",
       "      <td>1.0</td>\n",
       "      <td>12.0</td>\n",
       "      <td>5.0</td>\n",
       "    </tr>\n",
       "    <tr>\n",
       "      <th>24</th>\n",
       "      <td>Kushal Malla</td>\n",
       "      <td>2020-2024</td>\n",
       "      <td>36</td>\n",
       "      <td>32.0</td>\n",
       "      <td>3.0</td>\n",
       "      <td>716.0</td>\n",
       "      <td>108.0</td>\n",
       "      <td>24.68</td>\n",
       "      <td>96.23</td>\n",
       "      <td>1.0</td>\n",
       "      <td>4.0</td>\n",
       "      <td>1.0</td>\n",
       "    </tr>\n",
       "    <tr>\n",
       "      <th>4</th>\n",
       "      <td>DS Airee</td>\n",
       "      <td>2018-2024</td>\n",
       "      <td>55</td>\n",
       "      <td>53.0</td>\n",
       "      <td>6.0</td>\n",
       "      <td>896.0</td>\n",
       "      <td>105.0</td>\n",
       "      <td>19.06</td>\n",
       "      <td>71.22</td>\n",
       "      <td>1.0</td>\n",
       "      <td>3.0</td>\n",
       "      <td>8.0</td>\n",
       "    </tr>\n",
       "    <tr>\n",
       "      <th>37</th>\n",
       "      <td>B Sharki</td>\n",
       "      <td>2022-2024</td>\n",
       "      <td>25</td>\n",
       "      <td>22.0</td>\n",
       "      <td>3.0</td>\n",
       "      <td>670.0</td>\n",
       "      <td>101.0</td>\n",
       "      <td>35.26</td>\n",
       "      <td>67.60</td>\n",
       "      <td>1.0</td>\n",
       "      <td>3.0</td>\n",
       "      <td>2.0</td>\n",
       "    </tr>\n",
       "    <tr>\n",
       "      <th>23</th>\n",
       "      <td>D Khanal</td>\n",
       "      <td>2022-2024</td>\n",
       "      <td>14</td>\n",
       "      <td>12.0</td>\n",
       "      <td>NaN</td>\n",
       "      <td>329.0</td>\n",
       "      <td>76.0</td>\n",
       "      <td>27.41</td>\n",
       "      <td>69.11</td>\n",
       "      <td>NaN</td>\n",
       "      <td>3.0</td>\n",
       "      <td>2.0</td>\n",
       "    </tr>\n",
       "    <tr>\n",
       "      <th>27</th>\n",
       "      <td>G Malla</td>\n",
       "      <td>2018-2023</td>\n",
       "      <td>37</td>\n",
       "      <td>37.0</td>\n",
       "      <td>1.0</td>\n",
       "      <td>876.0</td>\n",
       "      <td>75.0</td>\n",
       "      <td>24.33</td>\n",
       "      <td>66.46</td>\n",
       "      <td>NaN</td>\n",
       "      <td>7.0</td>\n",
       "      <td>3.0</td>\n",
       "    </tr>\n",
       "    <tr>\n",
       "      <th>18</th>\n",
       "      <td>Gulsan Jha</td>\n",
       "      <td>2021-2024</td>\n",
       "      <td>27</td>\n",
       "      <td>22.0</td>\n",
       "      <td>5.0</td>\n",
       "      <td>514.0</td>\n",
       "      <td>67.0</td>\n",
       "      <td>30.23</td>\n",
       "      <td>73.63</td>\n",
       "      <td>NaN</td>\n",
       "      <td>3.0</td>\n",
       "      <td>NaN</td>\n",
       "    </tr>\n",
       "    <tr>\n",
       "      <th>2</th>\n",
       "      <td>Aarif Sheikh</td>\n",
       "      <td>2018-2024</td>\n",
       "      <td>51</td>\n",
       "      <td>43.0</td>\n",
       "      <td>5.0</td>\n",
       "      <td>964.0</td>\n",
       "      <td>66.0</td>\n",
       "      <td>25.36</td>\n",
       "      <td>62.43</td>\n",
       "      <td>NaN</td>\n",
       "      <td>6.0</td>\n",
       "      <td>4.0</td>\n",
       "    </tr>\n",
       "    <tr>\n",
       "      <th>38</th>\n",
       "      <td>Sompal Kami</td>\n",
       "      <td>2018-2024</td>\n",
       "      <td>54</td>\n",
       "      <td>42.0</td>\n",
       "      <td>14.0</td>\n",
       "      <td>596.0</td>\n",
       "      <td>63.0</td>\n",
       "      <td>21.28</td>\n",
       "      <td>73.39</td>\n",
       "      <td>NaN</td>\n",
       "      <td>2.0</td>\n",
       "      <td>2.0</td>\n",
       "    </tr>\n",
       "    <tr>\n",
       "      <th>7</th>\n",
       "      <td>B Bhandari</td>\n",
       "      <td>2019-2022</td>\n",
       "      <td>17</td>\n",
       "      <td>14.0</td>\n",
       "      <td>NaN</td>\n",
       "      <td>275.0</td>\n",
       "      <td>59.0</td>\n",
       "      <td>19.64</td>\n",
       "      <td>59.65</td>\n",
       "      <td>NaN</td>\n",
       "      <td>1.0</td>\n",
       "      <td>NaN</td>\n",
       "    </tr>\n",
       "    <tr>\n",
       "      <th>40</th>\n",
       "      <td>S Vesawkar</td>\n",
       "      <td>2018-2021</td>\n",
       "      <td>4</td>\n",
       "      <td>4.0</td>\n",
       "      <td>1.0</td>\n",
       "      <td>66.0</td>\n",
       "      <td>55.0</td>\n",
       "      <td>22.00</td>\n",
       "      <td>43.70</td>\n",
       "      <td>NaN</td>\n",
       "      <td>1.0</td>\n",
       "      <td>NaN</td>\n",
       "    </tr>\n",
       "    <tr>\n",
       "      <th>35</th>\n",
       "      <td>A Saud</td>\n",
       "      <td>2022-2023</td>\n",
       "      <td>9</td>\n",
       "      <td>9.0</td>\n",
       "      <td>NaN</td>\n",
       "      <td>174.0</td>\n",
       "      <td>51.0</td>\n",
       "      <td>19.33</td>\n",
       "      <td>50.00</td>\n",
       "      <td>NaN</td>\n",
       "      <td>1.0</td>\n",
       "      <td>2.0</td>\n",
       "    </tr>\n",
       "    <tr>\n",
       "      <th>22</th>\n",
       "      <td>SP Khakurel</td>\n",
       "      <td>2018-2022</td>\n",
       "      <td>6</td>\n",
       "      <td>6.0</td>\n",
       "      <td>NaN</td>\n",
       "      <td>97.0</td>\n",
       "      <td>50.0</td>\n",
       "      <td>16.16</td>\n",
       "      <td>50.25</td>\n",
       "      <td>NaN</td>\n",
       "      <td>1.0</td>\n",
       "      <td>1.0</td>\n",
       "    </tr>\n",
       "    <tr>\n",
       "      <th>20</th>\n",
       "      <td>Karan KC</td>\n",
       "      <td>2018-2024</td>\n",
       "      <td>51</td>\n",
       "      <td>36.0</td>\n",
       "      <td>8.0</td>\n",
       "      <td>412.0</td>\n",
       "      <td>42.0</td>\n",
       "      <td>14.71</td>\n",
       "      <td>84.25</td>\n",
       "      <td>NaN</td>\n",
       "      <td>NaN</td>\n",
       "      <td>4.0</td>\n",
       "    </tr>\n",
       "    <tr>\n",
       "      <th>0</th>\n",
       "      <td>Mohammad Aadil Alam</td>\n",
       "      <td>2022-2022</td>\n",
       "      <td>6</td>\n",
       "      <td>5.0</td>\n",
       "      <td>1.0</td>\n",
       "      <td>70.0</td>\n",
       "      <td>36.0</td>\n",
       "      <td>17.50</td>\n",
       "      <td>90.90</td>\n",
       "      <td>NaN</td>\n",
       "      <td>NaN</td>\n",
       "      <td>NaN</td>\n",
       "    </tr>\n",
       "    <tr>\n",
       "      <th>25</th>\n",
       "      <td>S Lamichhane</td>\n",
       "      <td>2018-2023</td>\n",
       "      <td>51</td>\n",
       "      <td>35.0</td>\n",
       "      <td>8.0</td>\n",
       "      <td>376.0</td>\n",
       "      <td>35.0</td>\n",
       "      <td>13.92</td>\n",
       "      <td>82.81</td>\n",
       "      <td>NaN</td>\n",
       "      <td>NaN</td>\n",
       "      <td>7.0</td>\n",
       "    </tr>\n",
       "    <tr>\n",
       "      <th>19</th>\n",
       "      <td>S Jora</td>\n",
       "      <td>2019-2023</td>\n",
       "      <td>5</td>\n",
       "      <td>5.0</td>\n",
       "      <td>NaN</td>\n",
       "      <td>56.0</td>\n",
       "      <td>28.0</td>\n",
       "      <td>11.20</td>\n",
       "      <td>83.58</td>\n",
       "      <td>NaN</td>\n",
       "      <td>NaN</td>\n",
       "      <td>NaN</td>\n",
       "    </tr>\n",
       "    <tr>\n",
       "      <th>5</th>\n",
       "      <td>KS Airee</td>\n",
       "      <td>2020-2022</td>\n",
       "      <td>3</td>\n",
       "      <td>3.0</td>\n",
       "      <td>2.0</td>\n",
       "      <td>27.0</td>\n",
       "      <td>18.0</td>\n",
       "      <td>27.00</td>\n",
       "      <td>112.50</td>\n",
       "      <td>NaN</td>\n",
       "      <td>NaN</td>\n",
       "      <td>1.0</td>\n",
       "    </tr>\n",
       "    <tr>\n",
       "      <th>34</th>\n",
       "      <td>P Sarraf</td>\n",
       "      <td>2019-2024</td>\n",
       "      <td>12</td>\n",
       "      <td>10.0</td>\n",
       "      <td>1.0</td>\n",
       "      <td>72.0</td>\n",
       "      <td>15.0</td>\n",
       "      <td>8.00</td>\n",
       "      <td>62.06</td>\n",
       "      <td>NaN</td>\n",
       "      <td>NaN</td>\n",
       "      <td>2.0</td>\n",
       "    </tr>\n",
       "    <tr>\n",
       "      <th>15</th>\n",
       "      <td>S Dhamala</td>\n",
       "      <td>2022-2022</td>\n",
       "      <td>1</td>\n",
       "      <td>1.0</td>\n",
       "      <td>NaN</td>\n",
       "      <td>12.0</td>\n",
       "      <td>12.0</td>\n",
       "      <td>12.00</td>\n",
       "      <td>31.57</td>\n",
       "      <td>NaN</td>\n",
       "      <td>NaN</td>\n",
       "      <td>NaN</td>\n",
       "    </tr>\n",
       "    <tr>\n",
       "      <th>31</th>\n",
       "      <td>B Regmi</td>\n",
       "      <td>2018-2019</td>\n",
       "      <td>4</td>\n",
       "      <td>4.0</td>\n",
       "      <td>NaN</td>\n",
       "      <td>13.0</td>\n",
       "      <td>12.0</td>\n",
       "      <td>3.25</td>\n",
       "      <td>27.65</td>\n",
       "      <td>NaN</td>\n",
       "      <td>NaN</td>\n",
       "      <td>2.0</td>\n",
       "    </tr>\n",
       "    <tr>\n",
       "      <th>30</th>\n",
       "      <td>LN Rajbanshi</td>\n",
       "      <td>2019-2024</td>\n",
       "      <td>29</td>\n",
       "      <td>16.0</td>\n",
       "      <td>10.0</td>\n",
       "      <td>37.0</td>\n",
       "      <td>11.0</td>\n",
       "      <td>6.16</td>\n",
       "      <td>29.13</td>\n",
       "      <td>NaN</td>\n",
       "      <td>NaN</td>\n",
       "      <td>2.0</td>\n",
       "    </tr>\n",
       "    <tr>\n",
       "      <th>29</th>\n",
       "      <td>Pratis GC</td>\n",
       "      <td>2023-2023</td>\n",
       "      <td>3</td>\n",
       "      <td>1.0</td>\n",
       "      <td>1.0</td>\n",
       "      <td>11.0</td>\n",
       "      <td>11.0</td>\n",
       "      <td>NaN</td>\n",
       "      <td>183.33</td>\n",
       "      <td>NaN</td>\n",
       "      <td>NaN</td>\n",
       "      <td>NaN</td>\n",
       "    </tr>\n",
       "    <tr>\n",
       "      <th>9</th>\n",
       "      <td>S Bhari</td>\n",
       "      <td>2020-2022</td>\n",
       "      <td>11</td>\n",
       "      <td>7.0</td>\n",
       "      <td>5.0</td>\n",
       "      <td>24.0</td>\n",
       "      <td>11.0</td>\n",
       "      <td>12.00</td>\n",
       "      <td>44.44</td>\n",
       "      <td>NaN</td>\n",
       "      <td>NaN</td>\n",
       "      <td>NaN</td>\n",
       "    </tr>\n",
       "    <tr>\n",
       "      <th>39</th>\n",
       "      <td>Surya Tamang</td>\n",
       "      <td>2024-2024</td>\n",
       "      <td>2</td>\n",
       "      <td>1.0</td>\n",
       "      <td>1.0</td>\n",
       "      <td>10.0</td>\n",
       "      <td>10.0</td>\n",
       "      <td>NaN</td>\n",
       "      <td>31.25</td>\n",
       "      <td>NaN</td>\n",
       "      <td>NaN</td>\n",
       "      <td>NaN</td>\n",
       "    </tr>\n",
       "    <tr>\n",
       "      <th>17</th>\n",
       "      <td>SP Gauchan</td>\n",
       "      <td>2018-2018</td>\n",
       "      <td>1</td>\n",
       "      <td>1.0</td>\n",
       "      <td>1.0</td>\n",
       "      <td>9.0</td>\n",
       "      <td>9.0</td>\n",
       "      <td>NaN</td>\n",
       "      <td>20.45</td>\n",
       "      <td>NaN</td>\n",
       "      <td>NaN</td>\n",
       "      <td>NaN</td>\n",
       "    </tr>\n",
       "    <tr>\n",
       "      <th>12</th>\n",
       "      <td>A Bohara</td>\n",
       "      <td>2020-2020</td>\n",
       "      <td>2</td>\n",
       "      <td>2.0</td>\n",
       "      <td>2.0</td>\n",
       "      <td>13.0</td>\n",
       "      <td>8.0</td>\n",
       "      <td>NaN</td>\n",
       "      <td>92.85</td>\n",
       "      <td>NaN</td>\n",
       "      <td>NaN</td>\n",
       "      <td>NaN</td>\n",
       "    </tr>\n",
       "    <tr>\n",
       "      <th>36</th>\n",
       "      <td>H Shah</td>\n",
       "      <td>2022-2022</td>\n",
       "      <td>3</td>\n",
       "      <td>3.0</td>\n",
       "      <td>1.0</td>\n",
       "      <td>9.0</td>\n",
       "      <td>8.0</td>\n",
       "      <td>4.50</td>\n",
       "      <td>36.00</td>\n",
       "      <td>NaN</td>\n",
       "      <td>NaN</td>\n",
       "      <td>NaN</td>\n",
       "    </tr>\n",
       "    <tr>\n",
       "      <th>8</th>\n",
       "      <td>LS Bhandari</td>\n",
       "      <td>2018-2018</td>\n",
       "      <td>1</td>\n",
       "      <td>1.0</td>\n",
       "      <td>1.0</td>\n",
       "      <td>4.0</td>\n",
       "      <td>4.0</td>\n",
       "      <td>NaN</td>\n",
       "      <td>44.44</td>\n",
       "      <td>NaN</td>\n",
       "      <td>NaN</td>\n",
       "      <td>NaN</td>\n",
       "    </tr>\n",
       "    <tr>\n",
       "      <th>13</th>\n",
       "      <td>R Dhakal</td>\n",
       "      <td>2024-2024</td>\n",
       "      <td>2</td>\n",
       "      <td>1.0</td>\n",
       "      <td>NaN</td>\n",
       "      <td>4.0</td>\n",
       "      <td>4.0</td>\n",
       "      <td>4.00</td>\n",
       "      <td>100.00</td>\n",
       "      <td>NaN</td>\n",
       "      <td>NaN</td>\n",
       "      <td>NaN</td>\n",
       "    </tr>\n",
       "    <tr>\n",
       "      <th>14</th>\n",
       "      <td>S Dhakal</td>\n",
       "      <td>2022-2022</td>\n",
       "      <td>8</td>\n",
       "      <td>6.0</td>\n",
       "      <td>5.0</td>\n",
       "      <td>7.0</td>\n",
       "      <td>4.0</td>\n",
       "      <td>7.00</td>\n",
       "      <td>17.07</td>\n",
       "      <td>NaN</td>\n",
       "      <td>NaN</td>\n",
       "      <td>NaN</td>\n",
       "    </tr>\n",
       "    <tr>\n",
       "      <th>32</th>\n",
       "      <td>Sagar Pun</td>\n",
       "      <td>2018-2018</td>\n",
       "      <td>1</td>\n",
       "      <td>1.0</td>\n",
       "      <td>NaN</td>\n",
       "      <td>3.0</td>\n",
       "      <td>3.0</td>\n",
       "      <td>3.00</td>\n",
       "      <td>15.00</td>\n",
       "      <td>NaN</td>\n",
       "      <td>NaN</td>\n",
       "      <td>NaN</td>\n",
       "    </tr>\n",
       "    <tr>\n",
       "      <th>6</th>\n",
       "      <td>Basir Ahamad</td>\n",
       "      <td>2022-2022</td>\n",
       "      <td>3</td>\n",
       "      <td>2.0</td>\n",
       "      <td>NaN</td>\n",
       "      <td>3.0</td>\n",
       "      <td>3.0</td>\n",
       "      <td>1.50</td>\n",
       "      <td>23.07</td>\n",
       "      <td>NaN</td>\n",
       "      <td>NaN</td>\n",
       "      <td>1.0</td>\n",
       "    </tr>\n",
       "    <tr>\n",
       "      <th>11</th>\n",
       "      <td>Bikram Sob</td>\n",
       "      <td>2021-2022</td>\n",
       "      <td>5</td>\n",
       "      <td>4.0</td>\n",
       "      <td>1.0</td>\n",
       "      <td>4.0</td>\n",
       "      <td>2.0</td>\n",
       "      <td>1.33</td>\n",
       "      <td>23.52</td>\n",
       "      <td>NaN</td>\n",
       "      <td>NaN</td>\n",
       "      <td>NaN</td>\n",
       "    </tr>\n",
       "    <tr>\n",
       "      <th>26</th>\n",
       "      <td>K Mahato</td>\n",
       "      <td>2022-2023</td>\n",
       "      <td>2</td>\n",
       "      <td>2.0</td>\n",
       "      <td>2.0</td>\n",
       "      <td>1.0</td>\n",
       "      <td>1.0</td>\n",
       "      <td>NaN</td>\n",
       "      <td>10.00</td>\n",
       "      <td>NaN</td>\n",
       "      <td>NaN</td>\n",
       "      <td>NaN</td>\n",
       "    </tr>\n",
       "    <tr>\n",
       "      <th>1</th>\n",
       "      <td>Aakash Chand</td>\n",
       "      <td>2024-2024</td>\n",
       "      <td>2</td>\n",
       "      <td>NaN</td>\n",
       "      <td>NaN</td>\n",
       "      <td>NaN</td>\n",
       "      <td>NaN</td>\n",
       "      <td>NaN</td>\n",
       "      <td>NaN</td>\n",
       "      <td>NaN</td>\n",
       "      <td>NaN</td>\n",
       "      <td>NaN</td>\n",
       "    </tr>\n",
       "    <tr>\n",
       "      <th>16</th>\n",
       "      <td>H Dhami</td>\n",
       "      <td>2024-2024</td>\n",
       "      <td>1</td>\n",
       "      <td>NaN</td>\n",
       "      <td>NaN</td>\n",
       "      <td>NaN</td>\n",
       "      <td>NaN</td>\n",
       "      <td>NaN</td>\n",
       "      <td>NaN</td>\n",
       "      <td>NaN</td>\n",
       "      <td>NaN</td>\n",
       "      <td>NaN</td>\n",
       "    </tr>\n",
       "  </tbody>\n",
       "</table>\n",
       "</div>"
      ],
      "text/plain": [
       "                 Player       Span  Mat  Inns    NO    Runs     HS    Ave  \\\n",
       "28            RK Paudel  2018-2024   61  58.0   5.0  1586.0  126.0  29.92   \n",
       "21             P Khadka  2018-2020   10  10.0   1.0   315.0  115.0  35.00   \n",
       "10            K Bhurtel  2021-2024   52  51.0   NaN  1219.0  115.0  23.90   \n",
       "33               AK Sah  2018-2024   10  10.0   2.0   266.0  112.0  33.25   \n",
       "3          Aasif Sheikh  2021-2024   49  49.0   4.0  1401.0  110.0  31.13   \n",
       "24         Kushal Malla  2020-2024   36  32.0   3.0   716.0  108.0  24.68   \n",
       "4              DS Airee  2018-2024   55  53.0   6.0   896.0  105.0  19.06   \n",
       "37             B Sharki  2022-2024   25  22.0   3.0   670.0  101.0  35.26   \n",
       "23             D Khanal  2022-2024   14  12.0   NaN   329.0   76.0  27.41   \n",
       "27              G Malla  2018-2023   37  37.0   1.0   876.0   75.0  24.33   \n",
       "18           Gulsan Jha  2021-2024   27  22.0   5.0   514.0   67.0  30.23   \n",
       "2          Aarif Sheikh  2018-2024   51  43.0   5.0   964.0   66.0  25.36   \n",
       "38          Sompal Kami  2018-2024   54  42.0  14.0   596.0   63.0  21.28   \n",
       "7            B Bhandari  2019-2022   17  14.0   NaN   275.0   59.0  19.64   \n",
       "40           S Vesawkar  2018-2021    4   4.0   1.0    66.0   55.0  22.00   \n",
       "35               A Saud  2022-2023    9   9.0   NaN   174.0   51.0  19.33   \n",
       "22          SP Khakurel  2018-2022    6   6.0   NaN    97.0   50.0  16.16   \n",
       "20             Karan KC  2018-2024   51  36.0   8.0   412.0   42.0  14.71   \n",
       "0   Mohammad Aadil Alam  2022-2022    6   5.0   1.0    70.0   36.0  17.50   \n",
       "25         S Lamichhane  2018-2023   51  35.0   8.0   376.0   35.0  13.92   \n",
       "19               S Jora  2019-2023    5   5.0   NaN    56.0   28.0  11.20   \n",
       "5              KS Airee  2020-2022    3   3.0   2.0    27.0   18.0  27.00   \n",
       "34             P Sarraf  2019-2024   12  10.0   1.0    72.0   15.0   8.00   \n",
       "15            S Dhamala  2022-2022    1   1.0   NaN    12.0   12.0  12.00   \n",
       "31              B Regmi  2018-2019    4   4.0   NaN    13.0   12.0   3.25   \n",
       "30         LN Rajbanshi  2019-2024   29  16.0  10.0    37.0   11.0   6.16   \n",
       "29            Pratis GC  2023-2023    3   1.0   1.0    11.0   11.0    NaN   \n",
       "9               S Bhari  2020-2022   11   7.0   5.0    24.0   11.0  12.00   \n",
       "39         Surya Tamang  2024-2024    2   1.0   1.0    10.0   10.0    NaN   \n",
       "17           SP Gauchan  2018-2018    1   1.0   1.0     9.0    9.0    NaN   \n",
       "12             A Bohara  2020-2020    2   2.0   2.0    13.0    8.0    NaN   \n",
       "36               H Shah  2022-2022    3   3.0   1.0     9.0    8.0   4.50   \n",
       "8           LS Bhandari  2018-2018    1   1.0   1.0     4.0    4.0    NaN   \n",
       "13             R Dhakal  2024-2024    2   1.0   NaN     4.0    4.0   4.00   \n",
       "14             S Dhakal  2022-2022    8   6.0   5.0     7.0    4.0   7.00   \n",
       "32            Sagar Pun  2018-2018    1   1.0   NaN     3.0    3.0   3.00   \n",
       "6          Basir Ahamad  2022-2022    3   2.0   NaN     3.0    3.0   1.50   \n",
       "11           Bikram Sob  2021-2022    5   4.0   1.0     4.0    2.0   1.33   \n",
       "26             K Mahato  2022-2023    2   2.0   2.0     1.0    1.0    NaN   \n",
       "1          Aakash Chand  2024-2024    2   NaN   NaN     NaN    NaN    NaN   \n",
       "16              H Dhami  2024-2024    1   NaN   NaN     NaN    NaN    NaN   \n",
       "\n",
       "        SR  100    50    0  \n",
       "28   74.56  1.0   9.0  5.0  \n",
       "21   79.14  1.0   1.0  NaN  \n",
       "10   83.26  1.0   8.0  7.0  \n",
       "33  103.50  1.0   2.0  1.0  \n",
       "3    76.97  1.0  12.0  5.0  \n",
       "24   96.23  1.0   4.0  1.0  \n",
       "4    71.22  1.0   3.0  8.0  \n",
       "37   67.60  1.0   3.0  2.0  \n",
       "23   69.11  NaN   3.0  2.0  \n",
       "27   66.46  NaN   7.0  3.0  \n",
       "18   73.63  NaN   3.0  NaN  \n",
       "2    62.43  NaN   6.0  4.0  \n",
       "38   73.39  NaN   2.0  2.0  \n",
       "7    59.65  NaN   1.0  NaN  \n",
       "40   43.70  NaN   1.0  NaN  \n",
       "35   50.00  NaN   1.0  2.0  \n",
       "22   50.25  NaN   1.0  1.0  \n",
       "20   84.25  NaN   NaN  4.0  \n",
       "0    90.90  NaN   NaN  NaN  \n",
       "25   82.81  NaN   NaN  7.0  \n",
       "19   83.58  NaN   NaN  NaN  \n",
       "5   112.50  NaN   NaN  1.0  \n",
       "34   62.06  NaN   NaN  2.0  \n",
       "15   31.57  NaN   NaN  NaN  \n",
       "31   27.65  NaN   NaN  2.0  \n",
       "30   29.13  NaN   NaN  2.0  \n",
       "29  183.33  NaN   NaN  NaN  \n",
       "9    44.44  NaN   NaN  NaN  \n",
       "39   31.25  NaN   NaN  NaN  \n",
       "17   20.45  NaN   NaN  NaN  \n",
       "12   92.85  NaN   NaN  NaN  \n",
       "36   36.00  NaN   NaN  NaN  \n",
       "8    44.44  NaN   NaN  NaN  \n",
       "13  100.00  NaN   NaN  NaN  \n",
       "14   17.07  NaN   NaN  NaN  \n",
       "32   15.00  NaN   NaN  NaN  \n",
       "6    23.07  NaN   NaN  1.0  \n",
       "11   23.52  NaN   NaN  NaN  \n",
       "26   10.00  NaN   NaN  NaN  \n",
       "1      NaN  NaN   NaN  NaN  \n",
       "16     NaN  NaN   NaN  NaN  "
      ]
     },
     "execution_count": 13,
     "metadata": {},
     "output_type": "execute_result"
    }
   ],
   "source": [
    "df.sort_values(by='HS' , ascending=False)"
   ]
  },
  {
   "cell_type": "code",
   "execution_count": 14,
   "metadata": {},
   "outputs": [
    {
     "name": "stdout",
     "output_type": "stream",
     "text": [
      "<class 'pandas.core.frame.DataFrame'>\n",
      "RangeIndex: 41 entries, 0 to 40\n",
      "Data columns (total 16 columns):\n",
      " #   Column  Non-Null Count  Dtype \n",
      "---  ------  --------------  ----- \n",
      " 0   Player  41 non-null     object\n",
      " 1   Span    41 non-null     object\n",
      " 2   Mat     41 non-null     int64 \n",
      " 3   Inns    41 non-null     object\n",
      " 4   Balls   41 non-null     int64 \n",
      " 5   Mdns    41 non-null     object\n",
      " 6   Runs    41 non-null     object\n",
      " 7   Wkts    41 non-null     object\n",
      " 8   BBI     41 non-null     object\n",
      " 9   Ave     41 non-null     object\n",
      " 10  Econ    41 non-null     object\n",
      " 11  SR      41 non-null     object\n",
      " 12  5       41 non-null     object\n",
      " 13  10      41 non-null     object\n",
      " 14  Ct      41 non-null     object\n",
      " 15  St      41 non-null     object\n",
      "dtypes: int64(2), object(14)\n",
      "memory usage: 5.3+ KB\n"
     ]
    }
   ],
   "source": [
    "df_bowl = pd.read_csv(\"data/bowling_players_odi.csv\")\n",
    "df_bowl.info()"
   ]
  },
  {
   "cell_type": "code",
   "execution_count": 15,
   "metadata": {},
   "outputs": [
    {
     "data": {
      "text/plain": [
       "Index(['Player', 'Span', 'Mat', 'Inns', 'Balls', 'Mdns', 'Runs', 'Wkts', 'BBI',\n",
       "       'Ave', 'Econ', 'SR', '5', '10', 'Ct', 'St'],\n",
       "      dtype='object')"
      ]
     },
     "execution_count": 15,
     "metadata": {},
     "output_type": "execute_result"
    }
   ],
   "source": [
    "df_bowl.columns"
   ]
  },
  {
   "cell_type": "code",
   "execution_count": 16,
   "metadata": {},
   "outputs": [
    {
     "name": "stdout",
     "output_type": "stream",
     "text": [
      "<class 'pandas.core.frame.DataFrame'>\n",
      "RangeIndex: 41 entries, 0 to 40\n",
      "Data columns (total 16 columns):\n",
      " #   Column  Non-Null Count  Dtype  \n",
      "---  ------  --------------  -----  \n",
      " 0   Player  41 non-null     object \n",
      " 1   Span    41 non-null     object \n",
      " 2   Mat     41 non-null     int64  \n",
      " 3   Inns    33 non-null     float64\n",
      " 4   Balls   41 non-null     int64  \n",
      " 5   Mdns    21 non-null     float64\n",
      " 6   Runs    33 non-null     float64\n",
      " 7   Wkts    28 non-null     float64\n",
      " 8   BBI     0 non-null      float64\n",
      " 9   Ave     28 non-null     float64\n",
      " 10  Econ    33 non-null     float64\n",
      " 11  SR      28 non-null     float64\n",
      " 12  5       4 non-null      float64\n",
      " 13  10      0 non-null      float64\n",
      " 14  Ct      29 non-null     float64\n",
      " 15  St      4 non-null      float64\n",
      "dtypes: float64(12), int64(2), object(2)\n",
      "memory usage: 5.3+ KB\n"
     ]
    }
   ],
   "source": [
    "str_columns = ['Inns', 'Balls', 'Mdns', 'Runs', 'Wkts', 'BBI',\n",
    "       'Ave', 'Econ', 'SR', '5', '10', 'Ct', 'St']\n",
    "df_bowl[str_columns] = df_bowl[str_columns].apply(pd.to_numeric, errors='coerce')\n",
    "df_bowl.info()"
   ]
  },
  {
   "cell_type": "code",
   "execution_count": 31,
   "metadata": {},
   "outputs": [
    {
     "data": {
      "text/html": [
       "<div>\n",
       "<style scoped>\n",
       "    .dataframe tbody tr th:only-of-type {\n",
       "        vertical-align: middle;\n",
       "    }\n",
       "\n",
       "    .dataframe tbody tr th {\n",
       "        vertical-align: top;\n",
       "    }\n",
       "\n",
       "    .dataframe thead th {\n",
       "        text-align: right;\n",
       "    }\n",
       "</style>\n",
       "<table border=\"1\" class=\"dataframe\">\n",
       "  <thead>\n",
       "    <tr style=\"text-align: right;\">\n",
       "      <th></th>\n",
       "      <th>Player</th>\n",
       "      <th>Span</th>\n",
       "      <th>Mat</th>\n",
       "      <th>Inns</th>\n",
       "      <th>Balls</th>\n",
       "      <th>Mdns</th>\n",
       "      <th>Runs</th>\n",
       "      <th>Wkts</th>\n",
       "      <th>BBI</th>\n",
       "      <th>Ave</th>\n",
       "      <th>Econ</th>\n",
       "      <th>SR</th>\n",
       "      <th>5</th>\n",
       "      <th>10</th>\n",
       "      <th>Ct</th>\n",
       "      <th>St</th>\n",
       "    </tr>\n",
       "  </thead>\n",
       "  <tbody>\n",
       "    <tr>\n",
       "      <th>2</th>\n",
       "      <td>Aarif Sheikh</td>\n",
       "      <td>2018-2024</td>\n",
       "      <td>51</td>\n",
       "      <td>26.0</td>\n",
       "      <td>669</td>\n",
       "      <td>2.0</td>\n",
       "      <td>529.0</td>\n",
       "      <td>6.0</td>\n",
       "      <td>0.0</td>\n",
       "      <td>88.16</td>\n",
       "      <td>4.74</td>\n",
       "      <td>111.5</td>\n",
       "      <td>0.0</td>\n",
       "      <td>0.0</td>\n",
       "      <td>23.0</td>\n",
       "      <td>0.0</td>\n",
       "    </tr>\n",
       "    <tr>\n",
       "      <th>39</th>\n",
       "      <td>Surya Tamang</td>\n",
       "      <td>2024-2024</td>\n",
       "      <td>2</td>\n",
       "      <td>2.0</td>\n",
       "      <td>90</td>\n",
       "      <td>1.0</td>\n",
       "      <td>78.0</td>\n",
       "      <td>1.0</td>\n",
       "      <td>0.0</td>\n",
       "      <td>78.00</td>\n",
       "      <td>5.20</td>\n",
       "      <td>90.0</td>\n",
       "      <td>0.0</td>\n",
       "      <td>0.0</td>\n",
       "      <td>0.0</td>\n",
       "      <td>0.0</td>\n",
       "    </tr>\n",
       "    <tr>\n",
       "      <th>13</th>\n",
       "      <td>R Dhakal</td>\n",
       "      <td>2024-2024</td>\n",
       "      <td>2</td>\n",
       "      <td>2.0</td>\n",
       "      <td>84</td>\n",
       "      <td>0.0</td>\n",
       "      <td>75.0</td>\n",
       "      <td>1.0</td>\n",
       "      <td>0.0</td>\n",
       "      <td>75.00</td>\n",
       "      <td>5.35</td>\n",
       "      <td>84.0</td>\n",
       "      <td>0.0</td>\n",
       "      <td>0.0</td>\n",
       "      <td>0.0</td>\n",
       "      <td>0.0</td>\n",
       "    </tr>\n",
       "    <tr>\n",
       "      <th>29</th>\n",
       "      <td>Pratis GC</td>\n",
       "      <td>2023-2023</td>\n",
       "      <td>3</td>\n",
       "      <td>3.0</td>\n",
       "      <td>126</td>\n",
       "      <td>0.0</td>\n",
       "      <td>90.0</td>\n",
       "      <td>2.0</td>\n",
       "      <td>0.0</td>\n",
       "      <td>45.00</td>\n",
       "      <td>4.28</td>\n",
       "      <td>63.0</td>\n",
       "      <td>0.0</td>\n",
       "      <td>0.0</td>\n",
       "      <td>1.0</td>\n",
       "      <td>0.0</td>\n",
       "    </tr>\n",
       "    <tr>\n",
       "      <th>14</th>\n",
       "      <td>S Dhakal</td>\n",
       "      <td>2022-2022</td>\n",
       "      <td>8</td>\n",
       "      <td>7.0</td>\n",
       "      <td>229</td>\n",
       "      <td>1.0</td>\n",
       "      <td>148.0</td>\n",
       "      <td>4.0</td>\n",
       "      <td>0.0</td>\n",
       "      <td>37.00</td>\n",
       "      <td>3.87</td>\n",
       "      <td>57.2</td>\n",
       "      <td>0.0</td>\n",
       "      <td>0.0</td>\n",
       "      <td>1.0</td>\n",
       "      <td>0.0</td>\n",
       "    </tr>\n",
       "    <tr>\n",
       "      <th>5</th>\n",
       "      <td>KS Airee</td>\n",
       "      <td>2020-2022</td>\n",
       "      <td>3</td>\n",
       "      <td>3.0</td>\n",
       "      <td>114</td>\n",
       "      <td>0.0</td>\n",
       "      <td>109.0</td>\n",
       "      <td>2.0</td>\n",
       "      <td>0.0</td>\n",
       "      <td>54.50</td>\n",
       "      <td>5.73</td>\n",
       "      <td>57.0</td>\n",
       "      <td>0.0</td>\n",
       "      <td>0.0</td>\n",
       "      <td>0.0</td>\n",
       "      <td>0.0</td>\n",
       "    </tr>\n",
       "    <tr>\n",
       "      <th>6</th>\n",
       "      <td>Basir Ahamad</td>\n",
       "      <td>2022-2022</td>\n",
       "      <td>3</td>\n",
       "      <td>3.0</td>\n",
       "      <td>111</td>\n",
       "      <td>0.0</td>\n",
       "      <td>71.0</td>\n",
       "      <td>2.0</td>\n",
       "      <td>0.0</td>\n",
       "      <td>35.50</td>\n",
       "      <td>3.83</td>\n",
       "      <td>55.5</td>\n",
       "      <td>0.0</td>\n",
       "      <td>0.0</td>\n",
       "      <td>0.0</td>\n",
       "      <td>0.0</td>\n",
       "    </tr>\n",
       "    <tr>\n",
       "      <th>34</th>\n",
       "      <td>P Sarraf</td>\n",
       "      <td>2019-2024</td>\n",
       "      <td>12</td>\n",
       "      <td>10.0</td>\n",
       "      <td>322</td>\n",
       "      <td>3.0</td>\n",
       "      <td>251.0</td>\n",
       "      <td>6.0</td>\n",
       "      <td>0.0</td>\n",
       "      <td>41.83</td>\n",
       "      <td>4.67</td>\n",
       "      <td>53.6</td>\n",
       "      <td>0.0</td>\n",
       "      <td>0.0</td>\n",
       "      <td>4.0</td>\n",
       "      <td>0.0</td>\n",
       "    </tr>\n",
       "    <tr>\n",
       "      <th>4</th>\n",
       "      <td>DS Airee</td>\n",
       "      <td>2018-2024</td>\n",
       "      <td>55</td>\n",
       "      <td>49.0</td>\n",
       "      <td>1946</td>\n",
       "      <td>19.0</td>\n",
       "      <td>1269.0</td>\n",
       "      <td>38.0</td>\n",
       "      <td>0.0</td>\n",
       "      <td>33.39</td>\n",
       "      <td>3.91</td>\n",
       "      <td>51.2</td>\n",
       "      <td>0.0</td>\n",
       "      <td>0.0</td>\n",
       "      <td>27.0</td>\n",
       "      <td>0.0</td>\n",
       "    </tr>\n",
       "    <tr>\n",
       "      <th>24</th>\n",
       "      <td>Kushal Malla</td>\n",
       "      <td>2020-2024</td>\n",
       "      <td>36</td>\n",
       "      <td>30.0</td>\n",
       "      <td>1063</td>\n",
       "      <td>11.0</td>\n",
       "      <td>785.0</td>\n",
       "      <td>24.0</td>\n",
       "      <td>0.0</td>\n",
       "      <td>32.70</td>\n",
       "      <td>4.43</td>\n",
       "      <td>44.2</td>\n",
       "      <td>0.0</td>\n",
       "      <td>0.0</td>\n",
       "      <td>6.0</td>\n",
       "      <td>0.0</td>\n",
       "    </tr>\n",
       "    <tr>\n",
       "      <th>0</th>\n",
       "      <td>Mohammad Aadil Alam</td>\n",
       "      <td>2022-2022</td>\n",
       "      <td>6</td>\n",
       "      <td>6.0</td>\n",
       "      <td>264</td>\n",
       "      <td>5.0</td>\n",
       "      <td>166.0</td>\n",
       "      <td>6.0</td>\n",
       "      <td>0.0</td>\n",
       "      <td>27.66</td>\n",
       "      <td>3.77</td>\n",
       "      <td>44.0</td>\n",
       "      <td>0.0</td>\n",
       "      <td>0.0</td>\n",
       "      <td>1.0</td>\n",
       "      <td>0.0</td>\n",
       "    </tr>\n",
       "    <tr>\n",
       "      <th>31</th>\n",
       "      <td>B Regmi</td>\n",
       "      <td>2018-2019</td>\n",
       "      <td>4</td>\n",
       "      <td>4.0</td>\n",
       "      <td>174</td>\n",
       "      <td>0.0</td>\n",
       "      <td>117.0</td>\n",
       "      <td>4.0</td>\n",
       "      <td>0.0</td>\n",
       "      <td>29.25</td>\n",
       "      <td>4.03</td>\n",
       "      <td>43.5</td>\n",
       "      <td>0.0</td>\n",
       "      <td>0.0</td>\n",
       "      <td>0.0</td>\n",
       "      <td>0.0</td>\n",
       "    </tr>\n",
       "    <tr>\n",
       "      <th>21</th>\n",
       "      <td>P Khadka</td>\n",
       "      <td>2018-2020</td>\n",
       "      <td>10</td>\n",
       "      <td>9.0</td>\n",
       "      <td>372</td>\n",
       "      <td>2.0</td>\n",
       "      <td>243.0</td>\n",
       "      <td>9.0</td>\n",
       "      <td>0.0</td>\n",
       "      <td>27.00</td>\n",
       "      <td>3.91</td>\n",
       "      <td>41.3</td>\n",
       "      <td>0.0</td>\n",
       "      <td>0.0</td>\n",
       "      <td>7.0</td>\n",
       "      <td>0.0</td>\n",
       "    </tr>\n",
       "    <tr>\n",
       "      <th>1</th>\n",
       "      <td>Aakash Chand</td>\n",
       "      <td>2024-2024</td>\n",
       "      <td>2</td>\n",
       "      <td>2.0</td>\n",
       "      <td>78</td>\n",
       "      <td>0.0</td>\n",
       "      <td>82.0</td>\n",
       "      <td>2.0</td>\n",
       "      <td>0.0</td>\n",
       "      <td>41.00</td>\n",
       "      <td>6.30</td>\n",
       "      <td>39.0</td>\n",
       "      <td>0.0</td>\n",
       "      <td>0.0</td>\n",
       "      <td>1.0</td>\n",
       "      <td>0.0</td>\n",
       "    </tr>\n",
       "    <tr>\n",
       "      <th>26</th>\n",
       "      <td>K Mahato</td>\n",
       "      <td>2022-2023</td>\n",
       "      <td>2</td>\n",
       "      <td>2.0</td>\n",
       "      <td>78</td>\n",
       "      <td>1.0</td>\n",
       "      <td>76.0</td>\n",
       "      <td>2.0</td>\n",
       "      <td>0.0</td>\n",
       "      <td>38.00</td>\n",
       "      <td>5.84</td>\n",
       "      <td>39.0</td>\n",
       "      <td>0.0</td>\n",
       "      <td>0.0</td>\n",
       "      <td>0.0</td>\n",
       "      <td>0.0</td>\n",
       "    </tr>\n",
       "    <tr>\n",
       "      <th>28</th>\n",
       "      <td>RK Paudel</td>\n",
       "      <td>2018-2024</td>\n",
       "      <td>61</td>\n",
       "      <td>10.0</td>\n",
       "      <td>311</td>\n",
       "      <td>3.0</td>\n",
       "      <td>194.0</td>\n",
       "      <td>9.0</td>\n",
       "      <td>0.0</td>\n",
       "      <td>21.55</td>\n",
       "      <td>3.74</td>\n",
       "      <td>34.5</td>\n",
       "      <td>0.0</td>\n",
       "      <td>0.0</td>\n",
       "      <td>14.0</td>\n",
       "      <td>0.0</td>\n",
       "    </tr>\n",
       "    <tr>\n",
       "      <th>18</th>\n",
       "      <td>Gulsan Jha</td>\n",
       "      <td>2021-2024</td>\n",
       "      <td>27</td>\n",
       "      <td>25.0</td>\n",
       "      <td>723</td>\n",
       "      <td>2.0</td>\n",
       "      <td>760.0</td>\n",
       "      <td>21.0</td>\n",
       "      <td>0.0</td>\n",
       "      <td>36.19</td>\n",
       "      <td>6.30</td>\n",
       "      <td>34.4</td>\n",
       "      <td>0.0</td>\n",
       "      <td>0.0</td>\n",
       "      <td>5.0</td>\n",
       "      <td>0.0</td>\n",
       "    </tr>\n",
       "    <tr>\n",
       "      <th>38</th>\n",
       "      <td>Sompal Kami</td>\n",
       "      <td>2018-2024</td>\n",
       "      <td>54</td>\n",
       "      <td>54.0</td>\n",
       "      <td>2385</td>\n",
       "      <td>34.0</td>\n",
       "      <td>2038.0</td>\n",
       "      <td>71.0</td>\n",
       "      <td>0.0</td>\n",
       "      <td>28.70</td>\n",
       "      <td>5.12</td>\n",
       "      <td>33.5</td>\n",
       "      <td>1.0</td>\n",
       "      <td>0.0</td>\n",
       "      <td>12.0</td>\n",
       "      <td>0.0</td>\n",
       "    </tr>\n",
       "    <tr>\n",
       "      <th>30</th>\n",
       "      <td>LN Rajbanshi</td>\n",
       "      <td>2019-2024</td>\n",
       "      <td>29</td>\n",
       "      <td>25.0</td>\n",
       "      <td>1236</td>\n",
       "      <td>13.0</td>\n",
       "      <td>784.0</td>\n",
       "      <td>37.0</td>\n",
       "      <td>0.0</td>\n",
       "      <td>21.18</td>\n",
       "      <td>3.80</td>\n",
       "      <td>33.4</td>\n",
       "      <td>1.0</td>\n",
       "      <td>0.0</td>\n",
       "      <td>7.0</td>\n",
       "      <td>0.0</td>\n",
       "    </tr>\n",
       "    <tr>\n",
       "      <th>20</th>\n",
       "      <td>Karan KC</td>\n",
       "      <td>2018-2024</td>\n",
       "      <td>51</td>\n",
       "      <td>51.0</td>\n",
       "      <td>2174</td>\n",
       "      <td>26.0</td>\n",
       "      <td>1923.0</td>\n",
       "      <td>74.0</td>\n",
       "      <td>0.0</td>\n",
       "      <td>25.98</td>\n",
       "      <td>5.30</td>\n",
       "      <td>29.3</td>\n",
       "      <td>3.0</td>\n",
       "      <td>0.0</td>\n",
       "      <td>7.0</td>\n",
       "      <td>0.0</td>\n",
       "    </tr>\n",
       "    <tr>\n",
       "      <th>10</th>\n",
       "      <td>K Bhurtel</td>\n",
       "      <td>2021-2024</td>\n",
       "      <td>52</td>\n",
       "      <td>14.0</td>\n",
       "      <td>318</td>\n",
       "      <td>1.0</td>\n",
       "      <td>257.0</td>\n",
       "      <td>11.0</td>\n",
       "      <td>0.0</td>\n",
       "      <td>23.36</td>\n",
       "      <td>4.84</td>\n",
       "      <td>28.9</td>\n",
       "      <td>0.0</td>\n",
       "      <td>0.0</td>\n",
       "      <td>37.0</td>\n",
       "      <td>0.0</td>\n",
       "    </tr>\n",
       "    <tr>\n",
       "      <th>9</th>\n",
       "      <td>S Bhari</td>\n",
       "      <td>2020-2022</td>\n",
       "      <td>11</td>\n",
       "      <td>11.0</td>\n",
       "      <td>422</td>\n",
       "      <td>5.0</td>\n",
       "      <td>273.0</td>\n",
       "      <td>15.0</td>\n",
       "      <td>0.0</td>\n",
       "      <td>18.20</td>\n",
       "      <td>3.88</td>\n",
       "      <td>28.1</td>\n",
       "      <td>0.0</td>\n",
       "      <td>0.0</td>\n",
       "      <td>3.0</td>\n",
       "      <td>0.0</td>\n",
       "    </tr>\n",
       "    <tr>\n",
       "      <th>8</th>\n",
       "      <td>LS Bhandari</td>\n",
       "      <td>2018-2018</td>\n",
       "      <td>1</td>\n",
       "      <td>1.0</td>\n",
       "      <td>54</td>\n",
       "      <td>0.0</td>\n",
       "      <td>43.0</td>\n",
       "      <td>2.0</td>\n",
       "      <td>0.0</td>\n",
       "      <td>21.50</td>\n",
       "      <td>4.77</td>\n",
       "      <td>27.0</td>\n",
       "      <td>0.0</td>\n",
       "      <td>0.0</td>\n",
       "      <td>0.0</td>\n",
       "      <td>0.0</td>\n",
       "    </tr>\n",
       "    <tr>\n",
       "      <th>11</th>\n",
       "      <td>Bikram Sob</td>\n",
       "      <td>2021-2022</td>\n",
       "      <td>5</td>\n",
       "      <td>5.0</td>\n",
       "      <td>127</td>\n",
       "      <td>2.0</td>\n",
       "      <td>115.0</td>\n",
       "      <td>5.0</td>\n",
       "      <td>0.0</td>\n",
       "      <td>23.00</td>\n",
       "      <td>5.43</td>\n",
       "      <td>25.4</td>\n",
       "      <td>0.0</td>\n",
       "      <td>0.0</td>\n",
       "      <td>1.0</td>\n",
       "      <td>0.0</td>\n",
       "    </tr>\n",
       "    <tr>\n",
       "      <th>25</th>\n",
       "      <td>S Lamichhane</td>\n",
       "      <td>2018-2023</td>\n",
       "      <td>51</td>\n",
       "      <td>50.0</td>\n",
       "      <td>2774</td>\n",
       "      <td>28.0</td>\n",
       "      <td>2023.0</td>\n",
       "      <td>112.0</td>\n",
       "      <td>0.0</td>\n",
       "      <td>18.06</td>\n",
       "      <td>4.37</td>\n",
       "      <td>24.7</td>\n",
       "      <td>3.0</td>\n",
       "      <td>0.0</td>\n",
       "      <td>8.0</td>\n",
       "      <td>0.0</td>\n",
       "    </tr>\n",
       "    <tr>\n",
       "      <th>27</th>\n",
       "      <td>G Malla</td>\n",
       "      <td>2018-2023</td>\n",
       "      <td>37</td>\n",
       "      <td>2.0</td>\n",
       "      <td>18</td>\n",
       "      <td>0.0</td>\n",
       "      <td>18.0</td>\n",
       "      <td>1.0</td>\n",
       "      <td>0.0</td>\n",
       "      <td>18.00</td>\n",
       "      <td>6.00</td>\n",
       "      <td>18.0</td>\n",
       "      <td>0.0</td>\n",
       "      <td>0.0</td>\n",
       "      <td>13.0</td>\n",
       "      <td>0.0</td>\n",
       "    </tr>\n",
       "    <tr>\n",
       "      <th>40</th>\n",
       "      <td>S Vesawkar</td>\n",
       "      <td>2018-2021</td>\n",
       "      <td>4</td>\n",
       "      <td>1.0</td>\n",
       "      <td>36</td>\n",
       "      <td>1.0</td>\n",
       "      <td>21.0</td>\n",
       "      <td>2.0</td>\n",
       "      <td>0.0</td>\n",
       "      <td>10.50</td>\n",
       "      <td>3.50</td>\n",
       "      <td>18.0</td>\n",
       "      <td>0.0</td>\n",
       "      <td>0.0</td>\n",
       "      <td>1.0</td>\n",
       "      <td>0.0</td>\n",
       "    </tr>\n",
       "    <tr>\n",
       "      <th>16</th>\n",
       "      <td>H Dhami</td>\n",
       "      <td>2024-2024</td>\n",
       "      <td>1</td>\n",
       "      <td>1.0</td>\n",
       "      <td>48</td>\n",
       "      <td>0.0</td>\n",
       "      <td>49.0</td>\n",
       "      <td>3.0</td>\n",
       "      <td>0.0</td>\n",
       "      <td>16.33</td>\n",
       "      <td>6.12</td>\n",
       "      <td>16.0</td>\n",
       "      <td>0.0</td>\n",
       "      <td>0.0</td>\n",
       "      <td>0.0</td>\n",
       "      <td>0.0</td>\n",
       "    </tr>\n",
       "    <tr>\n",
       "      <th>15</th>\n",
       "      <td>S Dhamala</td>\n",
       "      <td>2022-2022</td>\n",
       "      <td>1</td>\n",
       "      <td>0.0</td>\n",
       "      <td>0</td>\n",
       "      <td>0.0</td>\n",
       "      <td>0.0</td>\n",
       "      <td>0.0</td>\n",
       "      <td>0.0</td>\n",
       "      <td>0.00</td>\n",
       "      <td>0.00</td>\n",
       "      <td>0.0</td>\n",
       "      <td>0.0</td>\n",
       "      <td>0.0</td>\n",
       "      <td>0.0</td>\n",
       "      <td>0.0</td>\n",
       "    </tr>\n",
       "    <tr>\n",
       "      <th>12</th>\n",
       "      <td>A Bohara</td>\n",
       "      <td>2020-2020</td>\n",
       "      <td>2</td>\n",
       "      <td>2.0</td>\n",
       "      <td>66</td>\n",
       "      <td>2.0</td>\n",
       "      <td>51.0</td>\n",
       "      <td>0.0</td>\n",
       "      <td>0.0</td>\n",
       "      <td>0.00</td>\n",
       "      <td>4.63</td>\n",
       "      <td>0.0</td>\n",
       "      <td>0.0</td>\n",
       "      <td>0.0</td>\n",
       "      <td>0.0</td>\n",
       "      <td>0.0</td>\n",
       "    </tr>\n",
       "    <tr>\n",
       "      <th>17</th>\n",
       "      <td>SP Gauchan</td>\n",
       "      <td>2018-2018</td>\n",
       "      <td>1</td>\n",
       "      <td>1.0</td>\n",
       "      <td>24</td>\n",
       "      <td>0.0</td>\n",
       "      <td>15.0</td>\n",
       "      <td>0.0</td>\n",
       "      <td>0.0</td>\n",
       "      <td>0.00</td>\n",
       "      <td>3.75</td>\n",
       "      <td>0.0</td>\n",
       "      <td>0.0</td>\n",
       "      <td>0.0</td>\n",
       "      <td>1.0</td>\n",
       "      <td>0.0</td>\n",
       "    </tr>\n",
       "    <tr>\n",
       "      <th>23</th>\n",
       "      <td>D Khanal</td>\n",
       "      <td>2022-2024</td>\n",
       "      <td>14</td>\n",
       "      <td>2.0</td>\n",
       "      <td>18</td>\n",
       "      <td>0.0</td>\n",
       "      <td>20.0</td>\n",
       "      <td>0.0</td>\n",
       "      <td>0.0</td>\n",
       "      <td>0.00</td>\n",
       "      <td>6.66</td>\n",
       "      <td>0.0</td>\n",
       "      <td>0.0</td>\n",
       "      <td>0.0</td>\n",
       "      <td>9.0</td>\n",
       "      <td>0.0</td>\n",
       "    </tr>\n",
       "    <tr>\n",
       "      <th>32</th>\n",
       "      <td>Sagar Pun</td>\n",
       "      <td>2018-2018</td>\n",
       "      <td>1</td>\n",
       "      <td>0.0</td>\n",
       "      <td>0</td>\n",
       "      <td>0.0</td>\n",
       "      <td>0.0</td>\n",
       "      <td>0.0</td>\n",
       "      <td>0.0</td>\n",
       "      <td>0.00</td>\n",
       "      <td>0.00</td>\n",
       "      <td>0.0</td>\n",
       "      <td>0.0</td>\n",
       "      <td>0.0</td>\n",
       "      <td>0.0</td>\n",
       "      <td>0.0</td>\n",
       "    </tr>\n",
       "    <tr>\n",
       "      <th>33</th>\n",
       "      <td>AK Sah</td>\n",
       "      <td>2018-2024</td>\n",
       "      <td>10</td>\n",
       "      <td>0.0</td>\n",
       "      <td>0</td>\n",
       "      <td>0.0</td>\n",
       "      <td>0.0</td>\n",
       "      <td>0.0</td>\n",
       "      <td>0.0</td>\n",
       "      <td>0.00</td>\n",
       "      <td>0.00</td>\n",
       "      <td>0.0</td>\n",
       "      <td>0.0</td>\n",
       "      <td>0.0</td>\n",
       "      <td>4.0</td>\n",
       "      <td>0.0</td>\n",
       "    </tr>\n",
       "    <tr>\n",
       "      <th>22</th>\n",
       "      <td>SP Khakurel</td>\n",
       "      <td>2018-2022</td>\n",
       "      <td>6</td>\n",
       "      <td>0.0</td>\n",
       "      <td>0</td>\n",
       "      <td>0.0</td>\n",
       "      <td>0.0</td>\n",
       "      <td>0.0</td>\n",
       "      <td>0.0</td>\n",
       "      <td>0.00</td>\n",
       "      <td>0.00</td>\n",
       "      <td>0.0</td>\n",
       "      <td>0.0</td>\n",
       "      <td>0.0</td>\n",
       "      <td>0.0</td>\n",
       "      <td>1.0</td>\n",
       "    </tr>\n",
       "    <tr>\n",
       "      <th>35</th>\n",
       "      <td>A Saud</td>\n",
       "      <td>2022-2023</td>\n",
       "      <td>9</td>\n",
       "      <td>0.0</td>\n",
       "      <td>0</td>\n",
       "      <td>0.0</td>\n",
       "      <td>0.0</td>\n",
       "      <td>0.0</td>\n",
       "      <td>0.0</td>\n",
       "      <td>0.00</td>\n",
       "      <td>0.00</td>\n",
       "      <td>0.0</td>\n",
       "      <td>0.0</td>\n",
       "      <td>0.0</td>\n",
       "      <td>5.0</td>\n",
       "      <td>2.0</td>\n",
       "    </tr>\n",
       "    <tr>\n",
       "      <th>36</th>\n",
       "      <td>H Shah</td>\n",
       "      <td>2022-2022</td>\n",
       "      <td>3</td>\n",
       "      <td>3.0</td>\n",
       "      <td>60</td>\n",
       "      <td>1.0</td>\n",
       "      <td>55.0</td>\n",
       "      <td>0.0</td>\n",
       "      <td>0.0</td>\n",
       "      <td>0.00</td>\n",
       "      <td>5.50</td>\n",
       "      <td>0.0</td>\n",
       "      <td>0.0</td>\n",
       "      <td>0.0</td>\n",
       "      <td>1.0</td>\n",
       "      <td>0.0</td>\n",
       "    </tr>\n",
       "    <tr>\n",
       "      <th>37</th>\n",
       "      <td>B Sharki</td>\n",
       "      <td>2022-2024</td>\n",
       "      <td>25</td>\n",
       "      <td>1.0</td>\n",
       "      <td>6</td>\n",
       "      <td>0.0</td>\n",
       "      <td>8.0</td>\n",
       "      <td>0.0</td>\n",
       "      <td>0.0</td>\n",
       "      <td>0.00</td>\n",
       "      <td>8.00</td>\n",
       "      <td>0.0</td>\n",
       "      <td>0.0</td>\n",
       "      <td>0.0</td>\n",
       "      <td>7.0</td>\n",
       "      <td>0.0</td>\n",
       "    </tr>\n",
       "    <tr>\n",
       "      <th>7</th>\n",
       "      <td>B Bhandari</td>\n",
       "      <td>2019-2022</td>\n",
       "      <td>17</td>\n",
       "      <td>0.0</td>\n",
       "      <td>0</td>\n",
       "      <td>0.0</td>\n",
       "      <td>0.0</td>\n",
       "      <td>0.0</td>\n",
       "      <td>0.0</td>\n",
       "      <td>0.00</td>\n",
       "      <td>0.00</td>\n",
       "      <td>0.0</td>\n",
       "      <td>0.0</td>\n",
       "      <td>0.0</td>\n",
       "      <td>21.0</td>\n",
       "      <td>1.0</td>\n",
       "    </tr>\n",
       "    <tr>\n",
       "      <th>3</th>\n",
       "      <td>Aasif Sheikh</td>\n",
       "      <td>2021-2024</td>\n",
       "      <td>49</td>\n",
       "      <td>0.0</td>\n",
       "      <td>0</td>\n",
       "      <td>0.0</td>\n",
       "      <td>0.0</td>\n",
       "      <td>0.0</td>\n",
       "      <td>0.0</td>\n",
       "      <td>0.00</td>\n",
       "      <td>0.00</td>\n",
       "      <td>0.0</td>\n",
       "      <td>0.0</td>\n",
       "      <td>0.0</td>\n",
       "      <td>35.0</td>\n",
       "      <td>5.0</td>\n",
       "    </tr>\n",
       "    <tr>\n",
       "      <th>19</th>\n",
       "      <td>S Jora</td>\n",
       "      <td>2019-2023</td>\n",
       "      <td>5</td>\n",
       "      <td>0.0</td>\n",
       "      <td>0</td>\n",
       "      <td>0.0</td>\n",
       "      <td>0.0</td>\n",
       "      <td>0.0</td>\n",
       "      <td>0.0</td>\n",
       "      <td>0.00</td>\n",
       "      <td>0.00</td>\n",
       "      <td>0.0</td>\n",
       "      <td>0.0</td>\n",
       "      <td>0.0</td>\n",
       "      <td>1.0</td>\n",
       "      <td>0.0</td>\n",
       "    </tr>\n",
       "  </tbody>\n",
       "</table>\n",
       "</div>"
      ],
      "text/plain": [
       "                 Player       Span  Mat  Inns  Balls  Mdns    Runs   Wkts  \\\n",
       "2          Aarif Sheikh  2018-2024   51  26.0    669   2.0   529.0    6.0   \n",
       "39         Surya Tamang  2024-2024    2   2.0     90   1.0    78.0    1.0   \n",
       "13             R Dhakal  2024-2024    2   2.0     84   0.0    75.0    1.0   \n",
       "29            Pratis GC  2023-2023    3   3.0    126   0.0    90.0    2.0   \n",
       "14             S Dhakal  2022-2022    8   7.0    229   1.0   148.0    4.0   \n",
       "5              KS Airee  2020-2022    3   3.0    114   0.0   109.0    2.0   \n",
       "6          Basir Ahamad  2022-2022    3   3.0    111   0.0    71.0    2.0   \n",
       "34             P Sarraf  2019-2024   12  10.0    322   3.0   251.0    6.0   \n",
       "4              DS Airee  2018-2024   55  49.0   1946  19.0  1269.0   38.0   \n",
       "24         Kushal Malla  2020-2024   36  30.0   1063  11.0   785.0   24.0   \n",
       "0   Mohammad Aadil Alam  2022-2022    6   6.0    264   5.0   166.0    6.0   \n",
       "31              B Regmi  2018-2019    4   4.0    174   0.0   117.0    4.0   \n",
       "21             P Khadka  2018-2020   10   9.0    372   2.0   243.0    9.0   \n",
       "1          Aakash Chand  2024-2024    2   2.0     78   0.0    82.0    2.0   \n",
       "26             K Mahato  2022-2023    2   2.0     78   1.0    76.0    2.0   \n",
       "28            RK Paudel  2018-2024   61  10.0    311   3.0   194.0    9.0   \n",
       "18           Gulsan Jha  2021-2024   27  25.0    723   2.0   760.0   21.0   \n",
       "38          Sompal Kami  2018-2024   54  54.0   2385  34.0  2038.0   71.0   \n",
       "30         LN Rajbanshi  2019-2024   29  25.0   1236  13.0   784.0   37.0   \n",
       "20             Karan KC  2018-2024   51  51.0   2174  26.0  1923.0   74.0   \n",
       "10            K Bhurtel  2021-2024   52  14.0    318   1.0   257.0   11.0   \n",
       "9               S Bhari  2020-2022   11  11.0    422   5.0   273.0   15.0   \n",
       "8           LS Bhandari  2018-2018    1   1.0     54   0.0    43.0    2.0   \n",
       "11           Bikram Sob  2021-2022    5   5.0    127   2.0   115.0    5.0   \n",
       "25         S Lamichhane  2018-2023   51  50.0   2774  28.0  2023.0  112.0   \n",
       "27              G Malla  2018-2023   37   2.0     18   0.0    18.0    1.0   \n",
       "40           S Vesawkar  2018-2021    4   1.0     36   1.0    21.0    2.0   \n",
       "16              H Dhami  2024-2024    1   1.0     48   0.0    49.0    3.0   \n",
       "15            S Dhamala  2022-2022    1   0.0      0   0.0     0.0    0.0   \n",
       "12             A Bohara  2020-2020    2   2.0     66   2.0    51.0    0.0   \n",
       "17           SP Gauchan  2018-2018    1   1.0     24   0.0    15.0    0.0   \n",
       "23             D Khanal  2022-2024   14   2.0     18   0.0    20.0    0.0   \n",
       "32            Sagar Pun  2018-2018    1   0.0      0   0.0     0.0    0.0   \n",
       "33               AK Sah  2018-2024   10   0.0      0   0.0     0.0    0.0   \n",
       "22          SP Khakurel  2018-2022    6   0.0      0   0.0     0.0    0.0   \n",
       "35               A Saud  2022-2023    9   0.0      0   0.0     0.0    0.0   \n",
       "36               H Shah  2022-2022    3   3.0     60   1.0    55.0    0.0   \n",
       "37             B Sharki  2022-2024   25   1.0      6   0.0     8.0    0.0   \n",
       "7            B Bhandari  2019-2022   17   0.0      0   0.0     0.0    0.0   \n",
       "3          Aasif Sheikh  2021-2024   49   0.0      0   0.0     0.0    0.0   \n",
       "19               S Jora  2019-2023    5   0.0      0   0.0     0.0    0.0   \n",
       "\n",
       "    BBI    Ave  Econ     SR    5   10    Ct   St  \n",
       "2   0.0  88.16  4.74  111.5  0.0  0.0  23.0  0.0  \n",
       "39  0.0  78.00  5.20   90.0  0.0  0.0   0.0  0.0  \n",
       "13  0.0  75.00  5.35   84.0  0.0  0.0   0.0  0.0  \n",
       "29  0.0  45.00  4.28   63.0  0.0  0.0   1.0  0.0  \n",
       "14  0.0  37.00  3.87   57.2  0.0  0.0   1.0  0.0  \n",
       "5   0.0  54.50  5.73   57.0  0.0  0.0   0.0  0.0  \n",
       "6   0.0  35.50  3.83   55.5  0.0  0.0   0.0  0.0  \n",
       "34  0.0  41.83  4.67   53.6  0.0  0.0   4.0  0.0  \n",
       "4   0.0  33.39  3.91   51.2  0.0  0.0  27.0  0.0  \n",
       "24  0.0  32.70  4.43   44.2  0.0  0.0   6.0  0.0  \n",
       "0   0.0  27.66  3.77   44.0  0.0  0.0   1.0  0.0  \n",
       "31  0.0  29.25  4.03   43.5  0.0  0.0   0.0  0.0  \n",
       "21  0.0  27.00  3.91   41.3  0.0  0.0   7.0  0.0  \n",
       "1   0.0  41.00  6.30   39.0  0.0  0.0   1.0  0.0  \n",
       "26  0.0  38.00  5.84   39.0  0.0  0.0   0.0  0.0  \n",
       "28  0.0  21.55  3.74   34.5  0.0  0.0  14.0  0.0  \n",
       "18  0.0  36.19  6.30   34.4  0.0  0.0   5.0  0.0  \n",
       "38  0.0  28.70  5.12   33.5  1.0  0.0  12.0  0.0  \n",
       "30  0.0  21.18  3.80   33.4  1.0  0.0   7.0  0.0  \n",
       "20  0.0  25.98  5.30   29.3  3.0  0.0   7.0  0.0  \n",
       "10  0.0  23.36  4.84   28.9  0.0  0.0  37.0  0.0  \n",
       "9   0.0  18.20  3.88   28.1  0.0  0.0   3.0  0.0  \n",
       "8   0.0  21.50  4.77   27.0  0.0  0.0   0.0  0.0  \n",
       "11  0.0  23.00  5.43   25.4  0.0  0.0   1.0  0.0  \n",
       "25  0.0  18.06  4.37   24.7  3.0  0.0   8.0  0.0  \n",
       "27  0.0  18.00  6.00   18.0  0.0  0.0  13.0  0.0  \n",
       "40  0.0  10.50  3.50   18.0  0.0  0.0   1.0  0.0  \n",
       "16  0.0  16.33  6.12   16.0  0.0  0.0   0.0  0.0  \n",
       "15  0.0   0.00  0.00    0.0  0.0  0.0   0.0  0.0  \n",
       "12  0.0   0.00  4.63    0.0  0.0  0.0   0.0  0.0  \n",
       "17  0.0   0.00  3.75    0.0  0.0  0.0   1.0  0.0  \n",
       "23  0.0   0.00  6.66    0.0  0.0  0.0   9.0  0.0  \n",
       "32  0.0   0.00  0.00    0.0  0.0  0.0   0.0  0.0  \n",
       "33  0.0   0.00  0.00    0.0  0.0  0.0   4.0  0.0  \n",
       "22  0.0   0.00  0.00    0.0  0.0  0.0   0.0  1.0  \n",
       "35  0.0   0.00  0.00    0.0  0.0  0.0   5.0  2.0  \n",
       "36  0.0   0.00  5.50    0.0  0.0  0.0   1.0  0.0  \n",
       "37  0.0   0.00  8.00    0.0  0.0  0.0   7.0  0.0  \n",
       "7   0.0   0.00  0.00    0.0  0.0  0.0  21.0  1.0  \n",
       "3   0.0   0.00  0.00    0.0  0.0  0.0  35.0  5.0  \n",
       "19  0.0   0.00  0.00    0.0  0.0  0.0   1.0  0.0  "
      ]
     },
     "execution_count": 31,
     "metadata": {},
     "output_type": "execute_result"
    }
   ],
   "source": [
    "df_bowl.sort_values(by=\"SR\" , ascending=False)"
   ]
  },
  {
   "cell_type": "code",
   "execution_count": 27,
   "metadata": {},
   "outputs": [],
   "source": [
    "df_bowl.fillna(0 , inplace = True)"
   ]
  },
  {
   "cell_type": "code",
   "execution_count": 34,
   "metadata": {},
   "outputs": [],
   "source": [
    "df.fillna(0 , inplace=True)\n"
   ]
  },
  {
   "cell_type": "code",
   "execution_count": 35,
   "metadata": {},
   "outputs": [
    {
     "data": {
      "application/vnd.plotly.v1+json": {
       "config": {
        "plotlyServerURL": "https://plot.ly"
       },
       "data": [
        {
         "hovertemplate": "<b>%{hovertext}</b><br><br>Runs=%{x}<br>HS=%{y}<br>SR=%{marker.size}<br>Mat=%{marker.color}<extra></extra>",
         "hovertext": [
          "Mohammad Aadil Alam",
          "Aakash Chand",
          "Aarif Sheikh",
          "Aasif Sheikh",
          "DS Airee",
          "KS Airee",
          "Basir Ahamad",
          "B Bhandari",
          "LS Bhandari",
          "S Bhari",
          "K Bhurtel",
          "Bikram Sob",
          "A Bohara",
          "R Dhakal",
          "S Dhakal",
          "S Dhamala",
          "H Dhami",
          "SP Gauchan",
          "Gulsan Jha",
          "S Jora",
          "Karan KC",
          "P Khadka",
          "SP Khakurel",
          "D Khanal",
          "Kushal Malla",
          "S Lamichhane",
          "K Mahato",
          "G Malla",
          "RK Paudel",
          "Pratis GC",
          "LN Rajbanshi",
          "B Regmi",
          "Sagar Pun",
          "AK Sah",
          "P Sarraf",
          "A Saud",
          "H Shah",
          "B Sharki",
          "Sompal Kami",
          "Surya Tamang",
          "S Vesawkar"
         ],
         "legendgroup": "",
         "marker": {
          "color": [
           6,
           2,
           51,
           49,
           55,
           3,
           3,
           17,
           1,
           11,
           52,
           5,
           2,
           2,
           8,
           1,
           1,
           1,
           27,
           5,
           51,
           10,
           6,
           14,
           36,
           51,
           2,
           37,
           61,
           3,
           29,
           4,
           1,
           10,
           12,
           9,
           3,
           25,
           54,
           2,
           4
          ],
          "coloraxis": "coloraxis",
          "size": [
           90.9,
           0,
           62.43,
           76.97,
           71.22,
           112.5,
           23.07,
           59.65,
           44.44,
           44.44,
           83.26,
           23.52,
           92.85,
           100,
           17.07,
           31.57,
           0,
           20.45,
           73.63,
           83.58,
           84.25,
           79.14,
           50.25,
           69.11,
           96.23,
           82.81,
           10,
           66.46,
           74.56,
           183.33,
           29.13,
           27.65,
           15,
           103.5,
           62.06,
           50,
           36,
           67.6,
           73.39,
           31.25,
           43.7
          ],
          "sizemode": "area",
          "sizeref": 0.45832500000000004,
          "symbol": "circle"
         },
         "mode": "markers",
         "name": "",
         "orientation": "v",
         "showlegend": false,
         "type": "scatter",
         "x": [
          70,
          0,
          964,
          1401,
          896,
          27,
          3,
          275,
          4,
          24,
          1219,
          4,
          13,
          4,
          7,
          12,
          0,
          9,
          514,
          56,
          412,
          315,
          97,
          329,
          716,
          376,
          1,
          876,
          1586,
          11,
          37,
          13,
          3,
          266,
          72,
          174,
          9,
          670,
          596,
          10,
          66
         ],
         "xaxis": "x",
         "y": [
          36,
          0,
          66,
          110,
          105,
          18,
          3,
          59,
          4,
          11,
          115,
          2,
          8,
          4,
          4,
          12,
          0,
          9,
          67,
          28,
          42,
          115,
          50,
          76,
          108,
          35,
          1,
          75,
          126,
          11,
          11,
          12,
          3,
          112,
          15,
          51,
          8,
          101,
          63,
          10,
          55
         ],
         "yaxis": "y"
        }
       ],
       "layout": {
        "coloraxis": {
         "colorbar": {
          "title": {
           "text": "Mat"
          }
         },
         "colorscale": [
          [
           0,
           "#0d0887"
          ],
          [
           0.1111111111111111,
           "#46039f"
          ],
          [
           0.2222222222222222,
           "#7201a8"
          ],
          [
           0.3333333333333333,
           "#9c179e"
          ],
          [
           0.4444444444444444,
           "#bd3786"
          ],
          [
           0.5555555555555556,
           "#d8576b"
          ],
          [
           0.6666666666666666,
           "#ed7953"
          ],
          [
           0.7777777777777778,
           "#fb9f3a"
          ],
          [
           0.8888888888888888,
           "#fdca26"
          ],
          [
           1,
           "#f0f921"
          ]
         ]
        },
        "legend": {
         "itemsizing": "constant",
         "tracegroupgap": 0
        },
        "template": {
         "data": {
          "bar": [
           {
            "error_x": {
             "color": "#2a3f5f"
            },
            "error_y": {
             "color": "#2a3f5f"
            },
            "marker": {
             "line": {
              "color": "#E5ECF6",
              "width": 0.5
             },
             "pattern": {
              "fillmode": "overlay",
              "size": 10,
              "solidity": 0.2
             }
            },
            "type": "bar"
           }
          ],
          "barpolar": [
           {
            "marker": {
             "line": {
              "color": "#E5ECF6",
              "width": 0.5
             },
             "pattern": {
              "fillmode": "overlay",
              "size": 10,
              "solidity": 0.2
             }
            },
            "type": "barpolar"
           }
          ],
          "carpet": [
           {
            "aaxis": {
             "endlinecolor": "#2a3f5f",
             "gridcolor": "white",
             "linecolor": "white",
             "minorgridcolor": "white",
             "startlinecolor": "#2a3f5f"
            },
            "baxis": {
             "endlinecolor": "#2a3f5f",
             "gridcolor": "white",
             "linecolor": "white",
             "minorgridcolor": "white",
             "startlinecolor": "#2a3f5f"
            },
            "type": "carpet"
           }
          ],
          "choropleth": [
           {
            "colorbar": {
             "outlinewidth": 0,
             "ticks": ""
            },
            "type": "choropleth"
           }
          ],
          "contour": [
           {
            "colorbar": {
             "outlinewidth": 0,
             "ticks": ""
            },
            "colorscale": [
             [
              0,
              "#0d0887"
             ],
             [
              0.1111111111111111,
              "#46039f"
             ],
             [
              0.2222222222222222,
              "#7201a8"
             ],
             [
              0.3333333333333333,
              "#9c179e"
             ],
             [
              0.4444444444444444,
              "#bd3786"
             ],
             [
              0.5555555555555556,
              "#d8576b"
             ],
             [
              0.6666666666666666,
              "#ed7953"
             ],
             [
              0.7777777777777778,
              "#fb9f3a"
             ],
             [
              0.8888888888888888,
              "#fdca26"
             ],
             [
              1,
              "#f0f921"
             ]
            ],
            "type": "contour"
           }
          ],
          "contourcarpet": [
           {
            "colorbar": {
             "outlinewidth": 0,
             "ticks": ""
            },
            "type": "contourcarpet"
           }
          ],
          "heatmap": [
           {
            "colorbar": {
             "outlinewidth": 0,
             "ticks": ""
            },
            "colorscale": [
             [
              0,
              "#0d0887"
             ],
             [
              0.1111111111111111,
              "#46039f"
             ],
             [
              0.2222222222222222,
              "#7201a8"
             ],
             [
              0.3333333333333333,
              "#9c179e"
             ],
             [
              0.4444444444444444,
              "#bd3786"
             ],
             [
              0.5555555555555556,
              "#d8576b"
             ],
             [
              0.6666666666666666,
              "#ed7953"
             ],
             [
              0.7777777777777778,
              "#fb9f3a"
             ],
             [
              0.8888888888888888,
              "#fdca26"
             ],
             [
              1,
              "#f0f921"
             ]
            ],
            "type": "heatmap"
           }
          ],
          "heatmapgl": [
           {
            "colorbar": {
             "outlinewidth": 0,
             "ticks": ""
            },
            "colorscale": [
             [
              0,
              "#0d0887"
             ],
             [
              0.1111111111111111,
              "#46039f"
             ],
             [
              0.2222222222222222,
              "#7201a8"
             ],
             [
              0.3333333333333333,
              "#9c179e"
             ],
             [
              0.4444444444444444,
              "#bd3786"
             ],
             [
              0.5555555555555556,
              "#d8576b"
             ],
             [
              0.6666666666666666,
              "#ed7953"
             ],
             [
              0.7777777777777778,
              "#fb9f3a"
             ],
             [
              0.8888888888888888,
              "#fdca26"
             ],
             [
              1,
              "#f0f921"
             ]
            ],
            "type": "heatmapgl"
           }
          ],
          "histogram": [
           {
            "marker": {
             "pattern": {
              "fillmode": "overlay",
              "size": 10,
              "solidity": 0.2
             }
            },
            "type": "histogram"
           }
          ],
          "histogram2d": [
           {
            "colorbar": {
             "outlinewidth": 0,
             "ticks": ""
            },
            "colorscale": [
             [
              0,
              "#0d0887"
             ],
             [
              0.1111111111111111,
              "#46039f"
             ],
             [
              0.2222222222222222,
              "#7201a8"
             ],
             [
              0.3333333333333333,
              "#9c179e"
             ],
             [
              0.4444444444444444,
              "#bd3786"
             ],
             [
              0.5555555555555556,
              "#d8576b"
             ],
             [
              0.6666666666666666,
              "#ed7953"
             ],
             [
              0.7777777777777778,
              "#fb9f3a"
             ],
             [
              0.8888888888888888,
              "#fdca26"
             ],
             [
              1,
              "#f0f921"
             ]
            ],
            "type": "histogram2d"
           }
          ],
          "histogram2dcontour": [
           {
            "colorbar": {
             "outlinewidth": 0,
             "ticks": ""
            },
            "colorscale": [
             [
              0,
              "#0d0887"
             ],
             [
              0.1111111111111111,
              "#46039f"
             ],
             [
              0.2222222222222222,
              "#7201a8"
             ],
             [
              0.3333333333333333,
              "#9c179e"
             ],
             [
              0.4444444444444444,
              "#bd3786"
             ],
             [
              0.5555555555555556,
              "#d8576b"
             ],
             [
              0.6666666666666666,
              "#ed7953"
             ],
             [
              0.7777777777777778,
              "#fb9f3a"
             ],
             [
              0.8888888888888888,
              "#fdca26"
             ],
             [
              1,
              "#f0f921"
             ]
            ],
            "type": "histogram2dcontour"
           }
          ],
          "mesh3d": [
           {
            "colorbar": {
             "outlinewidth": 0,
             "ticks": ""
            },
            "type": "mesh3d"
           }
          ],
          "parcoords": [
           {
            "line": {
             "colorbar": {
              "outlinewidth": 0,
              "ticks": ""
             }
            },
            "type": "parcoords"
           }
          ],
          "pie": [
           {
            "automargin": true,
            "type": "pie"
           }
          ],
          "scatter": [
           {
            "fillpattern": {
             "fillmode": "overlay",
             "size": 10,
             "solidity": 0.2
            },
            "type": "scatter"
           }
          ],
          "scatter3d": [
           {
            "line": {
             "colorbar": {
              "outlinewidth": 0,
              "ticks": ""
             }
            },
            "marker": {
             "colorbar": {
              "outlinewidth": 0,
              "ticks": ""
             }
            },
            "type": "scatter3d"
           }
          ],
          "scattercarpet": [
           {
            "marker": {
             "colorbar": {
              "outlinewidth": 0,
              "ticks": ""
             }
            },
            "type": "scattercarpet"
           }
          ],
          "scattergeo": [
           {
            "marker": {
             "colorbar": {
              "outlinewidth": 0,
              "ticks": ""
             }
            },
            "type": "scattergeo"
           }
          ],
          "scattergl": [
           {
            "marker": {
             "colorbar": {
              "outlinewidth": 0,
              "ticks": ""
             }
            },
            "type": "scattergl"
           }
          ],
          "scattermapbox": [
           {
            "marker": {
             "colorbar": {
              "outlinewidth": 0,
              "ticks": ""
             }
            },
            "type": "scattermapbox"
           }
          ],
          "scatterpolar": [
           {
            "marker": {
             "colorbar": {
              "outlinewidth": 0,
              "ticks": ""
             }
            },
            "type": "scatterpolar"
           }
          ],
          "scatterpolargl": [
           {
            "marker": {
             "colorbar": {
              "outlinewidth": 0,
              "ticks": ""
             }
            },
            "type": "scatterpolargl"
           }
          ],
          "scatterternary": [
           {
            "marker": {
             "colorbar": {
              "outlinewidth": 0,
              "ticks": ""
             }
            },
            "type": "scatterternary"
           }
          ],
          "surface": [
           {
            "colorbar": {
             "outlinewidth": 0,
             "ticks": ""
            },
            "colorscale": [
             [
              0,
              "#0d0887"
             ],
             [
              0.1111111111111111,
              "#46039f"
             ],
             [
              0.2222222222222222,
              "#7201a8"
             ],
             [
              0.3333333333333333,
              "#9c179e"
             ],
             [
              0.4444444444444444,
              "#bd3786"
             ],
             [
              0.5555555555555556,
              "#d8576b"
             ],
             [
              0.6666666666666666,
              "#ed7953"
             ],
             [
              0.7777777777777778,
              "#fb9f3a"
             ],
             [
              0.8888888888888888,
              "#fdca26"
             ],
             [
              1,
              "#f0f921"
             ]
            ],
            "type": "surface"
           }
          ],
          "table": [
           {
            "cells": {
             "fill": {
              "color": "#EBF0F8"
             },
             "line": {
              "color": "white"
             }
            },
            "header": {
             "fill": {
              "color": "#C8D4E3"
             },
             "line": {
              "color": "white"
             }
            },
            "type": "table"
           }
          ]
         },
         "layout": {
          "annotationdefaults": {
           "arrowcolor": "#2a3f5f",
           "arrowhead": 0,
           "arrowwidth": 1
          },
          "autotypenumbers": "strict",
          "coloraxis": {
           "colorbar": {
            "outlinewidth": 0,
            "ticks": ""
           }
          },
          "colorscale": {
           "diverging": [
            [
             0,
             "#8e0152"
            ],
            [
             0.1,
             "#c51b7d"
            ],
            [
             0.2,
             "#de77ae"
            ],
            [
             0.3,
             "#f1b6da"
            ],
            [
             0.4,
             "#fde0ef"
            ],
            [
             0.5,
             "#f7f7f7"
            ],
            [
             0.6,
             "#e6f5d0"
            ],
            [
             0.7,
             "#b8e186"
            ],
            [
             0.8,
             "#7fbc41"
            ],
            [
             0.9,
             "#4d9221"
            ],
            [
             1,
             "#276419"
            ]
           ],
           "sequential": [
            [
             0,
             "#0d0887"
            ],
            [
             0.1111111111111111,
             "#46039f"
            ],
            [
             0.2222222222222222,
             "#7201a8"
            ],
            [
             0.3333333333333333,
             "#9c179e"
            ],
            [
             0.4444444444444444,
             "#bd3786"
            ],
            [
             0.5555555555555556,
             "#d8576b"
            ],
            [
             0.6666666666666666,
             "#ed7953"
            ],
            [
             0.7777777777777778,
             "#fb9f3a"
            ],
            [
             0.8888888888888888,
             "#fdca26"
            ],
            [
             1,
             "#f0f921"
            ]
           ],
           "sequentialminus": [
            [
             0,
             "#0d0887"
            ],
            [
             0.1111111111111111,
             "#46039f"
            ],
            [
             0.2222222222222222,
             "#7201a8"
            ],
            [
             0.3333333333333333,
             "#9c179e"
            ],
            [
             0.4444444444444444,
             "#bd3786"
            ],
            [
             0.5555555555555556,
             "#d8576b"
            ],
            [
             0.6666666666666666,
             "#ed7953"
            ],
            [
             0.7777777777777778,
             "#fb9f3a"
            ],
            [
             0.8888888888888888,
             "#fdca26"
            ],
            [
             1,
             "#f0f921"
            ]
           ]
          },
          "colorway": [
           "#636efa",
           "#EF553B",
           "#00cc96",
           "#ab63fa",
           "#FFA15A",
           "#19d3f3",
           "#FF6692",
           "#B6E880",
           "#FF97FF",
           "#FECB52"
          ],
          "font": {
           "color": "#2a3f5f"
          },
          "geo": {
           "bgcolor": "white",
           "lakecolor": "white",
           "landcolor": "#E5ECF6",
           "showlakes": true,
           "showland": true,
           "subunitcolor": "white"
          },
          "hoverlabel": {
           "align": "left"
          },
          "hovermode": "closest",
          "mapbox": {
           "style": "light"
          },
          "paper_bgcolor": "white",
          "plot_bgcolor": "#E5ECF6",
          "polar": {
           "angularaxis": {
            "gridcolor": "white",
            "linecolor": "white",
            "ticks": ""
           },
           "bgcolor": "#E5ECF6",
           "radialaxis": {
            "gridcolor": "white",
            "linecolor": "white",
            "ticks": ""
           }
          },
          "scene": {
           "xaxis": {
            "backgroundcolor": "#E5ECF6",
            "gridcolor": "white",
            "gridwidth": 2,
            "linecolor": "white",
            "showbackground": true,
            "ticks": "",
            "zerolinecolor": "white"
           },
           "yaxis": {
            "backgroundcolor": "#E5ECF6",
            "gridcolor": "white",
            "gridwidth": 2,
            "linecolor": "white",
            "showbackground": true,
            "ticks": "",
            "zerolinecolor": "white"
           },
           "zaxis": {
            "backgroundcolor": "#E5ECF6",
            "gridcolor": "white",
            "gridwidth": 2,
            "linecolor": "white",
            "showbackground": true,
            "ticks": "",
            "zerolinecolor": "white"
           }
          },
          "shapedefaults": {
           "line": {
            "color": "#2a3f5f"
           }
          },
          "ternary": {
           "aaxis": {
            "gridcolor": "white",
            "linecolor": "white",
            "ticks": ""
           },
           "baxis": {
            "gridcolor": "white",
            "linecolor": "white",
            "ticks": ""
           },
           "bgcolor": "#E5ECF6",
           "caxis": {
            "gridcolor": "white",
            "linecolor": "white",
            "ticks": ""
           }
          },
          "title": {
           "x": 0.05
          },
          "xaxis": {
           "automargin": true,
           "gridcolor": "white",
           "linecolor": "white",
           "ticks": "",
           "title": {
            "standoff": 15
           },
           "zerolinecolor": "white",
           "zerolinewidth": 2
          },
          "yaxis": {
           "automargin": true,
           "gridcolor": "white",
           "linecolor": "white",
           "ticks": "",
           "title": {
            "standoff": 15
           },
           "zerolinecolor": "white",
           "zerolinewidth": 2
          }
         }
        },
        "title": {
         "text": "Balls Vs Wicket Chart"
        },
        "xaxis": {
         "anchor": "y",
         "domain": [
          0,
          1
         ],
         "title": {
          "text": "Runs"
         }
        },
        "yaxis": {
         "anchor": "x",
         "domain": [
          0,
          1
         ],
         "title": {
          "text": "HS"
         }
        }
       }
      }
     },
     "metadata": {},
     "output_type": "display_data"
    }
   ],
   "source": [
    "fig = px.scatter(df , x= \"Runs\" , y = \"HS\" ,\n",
    "                 color = \"Mat\"  , size = \"SR\" ,\n",
    "           hover_name=\"Player\" , title=\"Balls Vs Wicket Chart\")\n",
    "fig.show()"
   ]
  },
  {
   "cell_type": "code",
   "execution_count": null,
   "metadata": {},
   "outputs": [],
   "source": []
  }
 ],
 "metadata": {
  "kernelspec": {
   "display_name": "Python 3",
   "language": "python",
   "name": "python3"
  },
  "language_info": {
   "codemirror_mode": {
    "name": "ipython",
    "version": 3
   },
   "file_extension": ".py",
   "mimetype": "text/x-python",
   "name": "python",
   "nbconvert_exporter": "python",
   "pygments_lexer": "ipython3",
   "version": "3.11.5"
  }
 },
 "nbformat": 4,
 "nbformat_minor": 2
}
