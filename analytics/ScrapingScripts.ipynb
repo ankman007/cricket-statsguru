{
 "cells": [
  {
   "cell_type": "code",
   "execution_count": 1,
   "metadata": {},
   "outputs": [],
   "source": [
    "import requests \n",
    "from bs4 import BeautifulSoup \n",
    "import pandas as pd "
   ]
  },
  {
   "cell_type": "markdown",
   "metadata": {},
   "source": [
    "Function to get data from the site..."
   ]
  },
  {
   "cell_type": "code",
   "execution_count": 2,
   "metadata": {},
   "outputs": [],
   "source": [
    "def get_Data(url , no_columns) -> pd.DataFrame:\n",
    "    result = requests.get(url)\n",
    "    result.raise_for_status()\n",
    "    soup = BeautifulSoup(result.text , 'html.parser')\n",
    "    columns = soup.find_all('td' , class_='ds-min-w-max')\n",
    "    names = []\n",
    "    for name in columns: \n",
    "        name_ = name.string\n",
    "        names.append(name_)\n",
    "    columns = names[:no_columns]\n",
    "    #creating dictionary of the data\n",
    "    data_dictionary ={}\n",
    "    for idx , i in enumerate(columns):\n",
    "        data_dictionary[i] = names[idx::no_columns][1:]\n",
    "    return pd.DataFrame(data_dictionary)\n"
   ]
  },
  {
   "cell_type": "code",
   "execution_count": 17,
   "metadata": {},
   "outputs": [],
   "source": [
    "batting_players_odi = get_Data(url=\"https://www.espncricinfo.com/records/team/averages-batting/nepal-32/one-day-internationals-2\" ,\n",
    "                                    no_columns=12)\n",
    "batting_players_t20 = get_Data(url=\"https://www.espncricinfo.com/records/team/averages-batting/nepal-32/twenty20-internationals-3?current=2\" ,\n",
    "                                    no_columns=12)\n",
    "bowling_players_t20 = get_Data(url=\"https://www.espncricinfo.com/records/team/averages-bowling/nepal-32/twenty20-internationals-3\" , \n",
    "                                no_columns=16)\n",
    "bowling_players_odi = get_Data(url=\"https://www.espncricinfo.com/records/team/averages-bowling/nepal-32/one-day-internationals-2\" , \n",
    "                                no_columns=16)"
   ]
  },
  {
   "cell_type": "code",
   "execution_count": null,
   "metadata": {},
   "outputs": [],
   "source": [
    "batting_columns = ['Player','Span','Matches','Innings','Not Outs','Runs','Highest Score','Average Score','Strike Rate','Century','Half-Century','Zero Run Outs']\n",
    "bowling_columns = ['Player','Span','Matches','Innings','Balls','Maidens','Runs','Wickets','Best Inning Bowling','Bowling Average','Economy Rate','Strike Rate','Five Wickets In An Innings','Ten Wickets In A Match','Caught','Stumped']\n",
    "batting_players_odi.columns = batting_columns\n",
    "batting_players_t20.columns = batting_columns\n",
    "bowling_players_odi.columns = bowling_columns\n",
    "bowling_players_t20.columns = bowling_columns"
   ]
  },
  {
   "cell_type": "code",
   "execution_count": 20,
   "metadata": {},
   "outputs": [],
   "source": [
    "batting_players_odi.to_csv('data/batting_players_odi.csv' , index = False)\n",
    "batting_players_t20.to_csv('data/batting_players_t20.csv' , index = False)\n",
    "bowling_players_odi.to_csv('data/bowling_players_odi.csv', index = False)\n",
    "bowling_players_t20.to_csv('data/bowling_players_t20.csv' , index=False)\n"
   ]
  },
  {
   "cell_type": "markdown",
   "metadata": {},
   "source": [
    "## Year based matches of Nepal!"
   ]
  },
  {
   "cell_type": "code",
   "execution_count": 3,
   "metadata": {},
   "outputs": [],
   "source": [
    "t20_2014_matches = get_Data(url=\"https://www.espncricinfo.com/records/year/team-match-results/2014-2014/twenty20-internationals-3?team=32\" , \n",
    "                            no_columns= 7)\n",
    "t20_2015_matches = get_Data(url=\"https://www.espncricinfo.com/records/year/team-match-results/2015-2015/twenty20-internationals-3?team=32\" , \n",
    "                            no_columns= 7)\n",
    "t20_2018_matches = get_Data(url=\"https://www.espncricinfo.com/records/year/team-match-results/2018-2018/twenty20-internationals-3?team=32\" , \n",
    "                            no_columns=7)\n",
    "t20_2019_matches = get_Data(url=\"https://www.espncricinfo.com/records/year/team-match-results/2019-2019/twenty20-internationals-3?team=32\" , \n",
    "                            no_columns= 7)\n",
    "t20_2020_matches = get_Data(url=\"https://www.espncricinfo.com/records/year/team-match-results/2020-2020/twenty20-internationals-3?team=32\" , \n",
    "                            no_columns = 7)\n",
    "t20_2021_matches = get_Data(url=\"https://www.espncricinfo.com/records/year/team-match-results/2021-2021/twenty20-internationals-3?team=32\" , \n",
    "                            no_columns= 7)\n",
    "t20_2022_matches = get_Data(url=\"https://www.espncricinfo.com/records/year/team-match-results/2022-2022/twenty20-internationals-3?team=32\" , \n",
    "                            no_columns= 7)\n",
    "t20_2023_matches = get_Data(url=\"https://www.espncricinfo.com/records/year/team-match-results/2023-2023/twenty20-internationals-3?team=32\" , \n",
    "                            no_columns= 7)\n",
    "t20_2024_matches = get_Data(url=\"https://www.espncricinfo.com/records/year/team-match-results/2024-2024/twenty20-internationals-3?team=32\" , \n",
    "                            no_columns= 7)"
   ]
  },
  {
   "cell_type": "code",
   "execution_count": 4,
   "metadata": {},
   "outputs": [],
   "source": [
    "#concatinating the dataframes \n",
    "nepal_t20_matches = pd.concat([t20_2014_matches , t20_2015_matches , t20_2018_matches , t20_2019_matches , t20_2020_matches , t20_2021_matches , t20_2022_matches , t20_2023_matches , t20_2024_matches] , ignore_index=True)"
   ]
  },
  {
   "cell_type": "code",
   "execution_count": 6,
   "metadata": {},
   "outputs": [],
   "source": [
    "nepal_t20_matches.to_csv(\"data/nepal_t20_stats.csv\")"
   ]
  },
  {
   "cell_type": "code",
   "execution_count": 3,
   "metadata": {},
   "outputs": [],
   "source": [
    "#0di data \n",
    "odi_2018_matches = get_Data(url =\"https://www.espncricinfo.com/records/year/team-match-results/2018-2018/one-day-internationals-2?team=32\" , \n",
    "                            no_columns= 7)\n",
    "odi_2019_matches = get_Data(url = \"https://www.espncricinfo.com/records/year/team-match-results/2019-2019/one-day-internationals-2?team=32\" , \n",
    "                            no_columns= 7)\n",
    "odi_2020_matches = get_Data(url = \"https://www.espncricinfo.com/records/year/team-match-results/2020-2020/one-day-internationals-2?team=32\" , \n",
    "                            no_columns= 7)\n",
    "odi_2021_matcehs = get_Data(url = \"https://www.espncricinfo.com/records/year/team-match-results/2021-2021/one-day-internationals-2?team=32\" , \n",
    "                            no_columns= 7)\n",
    "odi_2022_matches = get_Data(url = \"https://www.espncricinfo.com/records/year/team-match-results/2022-2022/one-day-internationals-2?team=32\" , \n",
    "                            no_columns= 7 ) \n",
    "odi_2023_matches = get_Data( url = \"https://www.espncricinfo.com/records/year/team-match-results/2023-2023/one-day-internationals-2?team=32\" , \n",
    "                            no_columns= 7)\n",
    "odi_2024_matches = get_Data( url = \"https://www.espncricinfo.com/records/year/team-match-results/2024-2024/one-day-internationals-2?team=32\" , \n",
    "                            no_columns=7)\n"
   ]
  },
  {
   "cell_type": "code",
   "execution_count": 4,
   "metadata": {},
   "outputs": [],
   "source": [
    "nepal_odi_matches = pd.concat([odi_2018_matches , odi_2019_matches , odi_2020_matches , odi_2021_matcehs , odi_2022_matches , odi_2023_matches , odi_2024_matches] , ignore_index= True)"
   ]
  },
  {
   "cell_type": "code",
   "execution_count": 7,
   "metadata": {},
   "outputs": [],
   "source": [
    "nepal_odi_matches.to_csv('data/nepal_odi_stats.csv')"
   ]
  }
 ],
 "metadata": {
  "kernelspec": {
   "display_name": "Python 3",
   "language": "python",
   "name": "python3"
  },
  "language_info": {
   "codemirror_mode": {
    "name": "ipython",
    "version": 3
   },
   "file_extension": ".py",
   "mimetype": "text/x-python",
   "name": "python",
   "nbconvert_exporter": "python",
   "pygments_lexer": "ipython3",
   "version": "3.11.5"
  }
 },
 "nbformat": 4,
 "nbformat_minor": 2
}
